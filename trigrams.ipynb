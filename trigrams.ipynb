{
 "cells": [
  {
   "cell_type": "code",
   "execution_count": 1,
   "metadata": {},
   "outputs": [],
   "source": [
    "# Imports libraries\n",
    "import re\n",
    "\n",
    "def loadText(file_path):\n",
    "    with open(file_path, 'r', encoding='utf-8') as file:\n",
    "        text = file.read()\n",
    "        \n",
    "    \n",
    "    # Remove non letters except the spaces and period then convert to upercase Letters\n",
    "    text = re.sub(r'[^A-Za-z. ]+', '', text).upper()\n",
    "    \n",
    "    return text\n",
    "\n",
    "# Run test to load and clean a file\n",
    "clean_text = loadText('./book1.txt')\n",
    "\n",
    "print(clean_text[:400])  # Shows the first 400 characters of the cleaned text\n"
   ]
  }
 ],
 "metadata": {
  "kernelspec": {
   "display_name": "Python 3",
   "language": "python",
   "name": "python3"
  },
  "language_info": {
   "codemirror_mode": {
    "name": "ipython",
    "version": 3
   },
   "file_extension": ".py",
   "mimetype": "text/x-python",
   "name": "python",
   "nbconvert_exporter": "python",
   "pygments_lexer": "ipython3",
   "version": "3.12.1"
  }
 },
 "nbformat": 4,
 "nbformat_minor": 2
}
