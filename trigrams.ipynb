{
 "cells": [
  {
   "cell_type": "code",
   "execution_count": 28,
   "metadata": {},
   "outputs": [
    {
     "name": "stdout",
     "output_type": "stream",
     "text": [
      "THE PROJECT GUTENBERG EBOOK OF THE LITTLE BOOK OF LIFE AFTER DEATH    THIS EBOOK IS FOR THE USE OF ANYONE ANYWHERE IN THE UNITED STATES ANDMOST OTHER PARTS OF THE WORLD AT NO COST AND WITH ALMOST NO RESTRICTIONSWHATSOEVER. YOU MAY COPY IT GIVE IT AWAY OR REUSE IT UNDER THE TERMSOF THE PROJECT GUTENBERG LICENSE INCLUDED WITH THIS EBOOK OR ONLINEAT WWW.GUTENBERG.ORG. IF YOU ARE NOT LOCATED IN THE UN\n"
     ]
    }
   ],
   "source": [
    "# Imports libraries\n",
    "import re\n",
    "from collections import defaultdict\n",
    "\n",
    "\n",
    "def loadText(file_path):\n",
    "    with open(file_path, 'r', encoding='utf-8') as file:\n",
    "        text = file.read()\n",
    "        \n",
    "    \n",
    "    # Remove non letters except the spaces and period then convert to upercase Letters\n",
    "    text = re.sub(r'[^A-Za-z. ]+', '', text).upper()\n",
    "    \n",
    "    return text\n",
    "\n",
    "\n",
    "# Runs test to load and clean a file\n",
    "clean_text = loadText('./book1.txt')\n",
    "\n",
    "print(clean_text[:400])  # Shows the first 400 characters of the cleaned text\n"
   ]
  },
  {
   "cell_type": "code",
   "execution_count": 29,
   "metadata": {},
   "outputs": [
    {
     "name": "stdout",
     "output_type": "stream",
     "text": [
      "Trigrams have been created.\n",
      "{'THE': 1981, 'HE ': 1478, 'E P': 175, ' PR': 238, 'PRO': 194, 'ROJ': 89, 'OJE': 89, 'JEC': 104, 'ECT': 236, 'CT ': 128}\n"
     ]
    }
   ],
   "source": [
    "def showTrigram(text):\n",
    "    trigramCounter = defaultdict(int)  \n",
    "    \n",
    "    # Show trigrams\n",
    "    for i in range(len(text) - 2):  # use to avoid an out of bounds index error\n",
    "        trigram = text[i:i+3]  # Shows the trigram\n",
    "        trigramCounter[trigram] += 1  # Adds the count\n",
    "        \n",
    "    return dict(trigramCounter)  # Return the trigram counts as a regular dictionary\n",
    "\n",
    "\n",
    "#clean_text = loadText('./book1.txt')  \n",
    "trigrams = showTrigram(clean_text)\n",
    "\n",
    "print(\"Trigrams have been created.\")\n",
    "print(dict(list(trigrams.items())[:10]))  "
   ]
  },
  {
   "cell_type": "code",
   "execution_count": 30,
   "metadata": {},
   "outputs": [
    {
     "name": "stdout",
     "output_type": "stream",
     "text": [
      "Clean text loaded\n",
      "Trigrams have been made\n",
      "Trigrams have been created.\n",
      "{'THE': 9645, 'HE ': 7468, 'E P': 766, ' PR': 721, 'PRO': 538, 'ROJ': 94, 'OJE': 93, 'JEC': 140, 'ECT': 441, 'CT ': 239}\n"
     ]
    }
   ],
   "source": [
    "def main(file_path):\n",
    "    \n",
    "    clean_text = loadText(file_path)\n",
    "    print(\"Clean text loaded\")\n",
    "    \n",
    "    #Show trigrams\n",
    "    trigrams = showTrigram(clean_text)\n",
    "    print(\"Trigrams have been made\")\n",
    "    \n",
    "    print(\"Trigrams have been created.\")\n",
    "    print(dict(list(trigrams.items())[10:]))   \n",
    "    \n",
    "\n",
    "if __name__ == \"__main__\":\n",
    "    main(\"book2.txt\")"
   ]
  },
  {
   "cell_type": "code",
   "execution_count": null,
   "metadata": {},
   "outputs": [],
   "source": [
    "# Imports libraries\n",
    "import re\n",
    "from collections import defaultdict\n",
    "\n",
    "def loadText(file_path):\n",
    "    with open(file_path, 'r', encoding='utf-8') as file:\n",
    "        text = file.read()\n",
    "        \n",
    "    \n",
    "    # Remove non letters except the spaces and period then convert to upercase Letters\n",
    "    text = re.sub(r'[^A-Za-z. ]+', '', text).upper()\n",
    "    \n",
    "    return text\n",
    "\n",
    "def showTrigram(text):\n",
    "    trigramCounter = defaultdict(int)  \n",
    "    \n",
    "    # Show trigrams\n",
    "    for i in range(len(text) - 2):  # use to avoid an out of bounds index error\n",
    "        trigram = text[i:i+3]  # Shows the trigram\n",
    "        trigramCounter[trigram] += 1  # Adds the count\n",
    "        \n",
    "    return dict(trigramCounter)  # Return the trigram counts as a regular dictionary\n",
    "\n",
    "def main(file_path):\n",
    "    \n",
    "    clean_text = loadText(file_path)\n",
    "    print(\"Clean text loaded\")\n",
    "    \n",
    "    #Show trigrams\n",
    "    trigrams = showTrigram(clean_text)\n",
    "    print(\"Trigrams have been made\")\n",
    "    \n",
    "    print(\"Trigrams have been created.\")\n",
    "    print(dict(list(trigrams.items())[10:]))   \n",
    "    \n",
    "\n",
    "if __name__ == \"__main__\":\n",
    "    main(\"book2.txt\")\n",
    "\n"
   ]
  }
 ],
 "metadata": {
  "kernelspec": {
   "display_name": "Python 3 (ipykernel)",
   "language": "python",
   "name": "python3"
  },
  "language_info": {
   "codemirror_mode": {
    "name": "ipython",
    "version": 3
   },
   "file_extension": ".py",
   "mimetype": "text/x-python",
   "name": "python",
   "nbconvert_exporter": "python",
   "pygments_lexer": "ipython3",
   "version": "3.12.1"
  }
 },
 "nbformat": 4,
 "nbformat_minor": 2
}
