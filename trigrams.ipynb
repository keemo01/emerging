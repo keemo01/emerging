{
 "cells": [
  {
   "cell_type": "markdown",
   "metadata": {},
   "source": [
    "## Task 1\n",
    "To complete this task, I first researched trigram models and their role in natural language processing, So this code is meant to analyze text from files using trigrams, which are sequences of three consectuvie letters and nu,bers. Ittl start by loading and cleaning the texts files to remove unwanted characters then ciobnvfert it into Uppercase. The function called showTrigrams is meant to count the amount of occurences in the cleaned text. Now the main function is to use all the steps above and display a sample of the trigrams. For my task, Im using five free English works from Project Gutenberg UTF- 8 text files to build a trigram model of the English language"
   ]
  },
  {
   "cell_type": "code",
   "execution_count": 1,
   "metadata": {},
   "outputs": [
    {
     "name": "stdout",
     "output_type": "stream",
     "text": [
      "Clean text loaded\n",
      "Trigrams have been made\n",
      "Trigrams have been created.\n",
      "{'T G': 127, ' GU': 109, 'GUT': 97, 'UTE': 202, 'TEN': 348, 'ENB': 106, 'NBE': 100, 'BER': 250, 'ERG': 120, 'RG ': 75, 'G E': 43, ' EB': 21, 'EBO': 24, 'BOO': 41, 'OOK': 146, 'OK ': 115, 'K O': 97, ' OF': 3312, 'OF ': 3164, 'F H': 238, ' HE': 1389, 'HEL': 196, 'ELM': 12, 'LME': 8, 'MET': 103, 'ET ': 230, 'T A': 640, ' AN': 2271, 'AND': 2421, 'ND ': 2319, 'D S': 403, ' SP': 311, 'SPE': 157, 'PEA': 141, 'EAR': 512, 'AR ': 380, 'R  ': 27, '   ': 1457, '  T': 53, ' TH': 10074, 'THI': 747, 'HIS': 1342, 'IS ': 1498, 'S E': 176, 'K I': 40, ' IS': 401, 'S F': 351, ' FO': 1203, 'FOR': 1234, 'OR ': 970, 'R T': 686, 'E U': 169, ' US': 159, 'USE': 242, 'SE ': 539, 'E O': 1102, 'F A': 339, 'ANY': 279, 'NYO': 9, 'YON': 41, 'ONE': 499, 'NE ': 510, 'E A': 1260, 'NYW': 4, 'YWH': 17, 'WHE': 354, 'HER': 1038, 'ERE': 1394, 'RE ': 1562, 'E I': 654, ' IN': 2152, 'IN ': 1731, 'N T': 1493, ' UN': 266, 'UNI': 93, 'NIT': 87, 'ITE': 162, 'TED': 797, 'ED ': 3418, ' ST': 645, 'STA': 333, 'TAT': 163, 'ATE': 646, 'TES': 180, 'ES ': 1071, 'S A': 1176, 'NDM': 13, 'DMO': 11, 'MOS': 157, 'OST': 320, 'ST ': 913, 'T O': 646, ' OT': 131, 'OTH': 438, 'ER ': 1512, 'R P': 133, ' PA': 363, 'PAR': 345, 'ART': 545, 'RTS': 37, 'TS ': 444, 'S O': 975, 'F T': 1515, 'E W': 1192, ' WO': 411, 'WOR': 212, 'ORL': 32, 'RLD': 27, 'LD ': 675, 'D A': 850, ' AT': 726, 'AT ': 1540, 'T N': 93, ' NO': 1008, 'NO ': 201, 'O C': 194, ' CO': 1521, 'COS': 21, 'D W': 494, ' WI': 864, 'WIT': 795, 'ITH': 883, 'TH ': 840, 'H A': 239, ' AL': 518, 'ALM': 53, 'LMO': 47, 'O R': 181, ' RE': 1104, 'RES': 484, 'EST': 535, 'STR': 425, 'TRI': 220, 'RIC': 97, 'ICT': 161, 'CTI': 253, 'TIO': 815, 'ION': 1146, 'ONS': 537, 'NSW': 35, 'SWH': 33, 'WHA': 154, 'HAT': 996, 'ATS': 21, 'TSO': 17, 'SOE': 3, 'OEV': 3, 'EVE': 508, 'VER': 694, 'ER.': 137, 'R. ': 211, '. Y': 23, ' YO': 161, 'YOU': 165, 'OU ': 112, 'U M': 20, ' MA': 871, 'MAY': 105, 'AY ': 383, 'Y C': 214, 'COP': 48, 'OPY': 53, 'PY ': 21, 'Y I': 207, ' IT': 960, 'IT ': 766, ' GI': 153, 'GIV': 138, 'IVE': 574, 'VE ': 644, ' AW': 61, 'AWA': 61, 'WAY': 186, 'Y O': 438, ' OR': 360, 'R R': 89, 'REU': 5, 'EUS': 12, 'T U': 48, 'UND': 419, 'NDE': 488, 'DER': 502, 'E T': 1620, ' TE': 227, 'TER': 816, 'ERM': 173, 'RMS': 90, 'MSO': 5, 'SOF': 54, 'G L': 49, ' LI': 368, 'LIC': 157, 'ICE': 185, 'CEN': 200, 'ENS': 152, 'NSE': 91, 'INC': 203, 'NCL': 41, 'CLU': 40, 'LUD': 27, 'UDE': 57, 'DED': 269, 'H T': 418, 'R O': 306, ' ON': 867, 'ONL': 96, 'NLI': 22, 'LIN': 260, 'INE': 372, 'NEA': 85, 'EAT': 480, 'T W': 714, ' WW': 7, 'WWW': 10, 'WW.': 10, 'W.G': 9, '.GU': 9, 'RG.': 15, 'G.O': 10, '.OR': 9, 'ORG': 25, 'G. ': 53, '. I': 358, ' IF': 118, 'IF ': 119, 'F Y': 21, 'U A': 16, ' AR': 530, 'ARE': 289, 'E N': 410, 'NOT': 794, 'OT ': 589, 'T L': 161, ' LO': 274, 'LOC': 35, 'OCA': 29, 'CAT': 68, 'D I': 494, 'ESY': 1, 'SYO': 1, 'U W': 10, 'WIL': 87, 'ILL': 313, 'LL ': 557, 'L H': 79, ' HA': 1636, 'HAV': 351, 'AVE': 465, ' TO': 2461, 'TO ': 2378, ' CH': 260, 'CHE': 205, 'HEC': 84, 'ECK': 35, 'CK ': 161, 'K T': 82, 'E L': 354, ' LA': 284, 'LAW': 30, 'AWS': 13, 'WS ': 65, 'E C': 1011, 'COU': 508, 'OUN': 469, 'UNT': 228, 'NTR': 239, 'TRY': 145, 'RY ': 619, 'Y W': 442, ' WH': 1339, 'E Y': 88, 'EDB': 28, 'DBE': 29, 'BEF': 137, 'EFO': 180, 'ORE': 408, 'USI': 70, 'SIN': 144, 'ING': 1715, 'NG ': 1495, 'G T': 404, 'OK.': 3, 'K.T': 2, '.TI': 5, 'TIT': 61, 'ITL': 11, 'TLE': 281, 'LE ': 737, 'E H': 753, '  S': 23, 'STO': 296, 'TOR': 330, 'ORI': 181, 'RIE': 275, 'IES': 330, ' FR': 525, 'FRO': 471, 'ROM': 894, 'OM ': 433, 'M T': 265, ' WA': 1925, 'WAR': 293, 'ARS': 187, 'RS ': 612, 'E G': 488, ' GR': 563, 'GRE': 596, 'REE': 452, 'EEK': 250, 'EKS': 104, 'KS ': 171, 'D R': 137, ' RO': 503, 'OMA': 262, 'MAN': 714, 'ANS': 506, 'NSA': 25, 'SAU': 22, 'AUT': 33, 'UTH': 109, 'THO': 378, 'HOR': 161, 'R A': 436, 'ALF': 46, 'LFR': 3, 'FRE': 58, 'RED': 538, 'D J': 9, ' JO': 25, 'JOH': 2, 'OHN': 2, 'HN ': 2, 'N C': 285, 'CHU': 14, 'HUR': 22, 'URC': 19, 'RCH': 133, 'CHR': 7, 'HRE': 90, 'REL': 113, 'ELE': 125, 'LEA': 193, 'EAS': 264, 'ASE': 83, 'E D': 518, ' DA': 267, 'DAT': 70, 'TE ': 353, 'E S': 1189, ' SE': 674, 'SEP': 11, 'EPT': 89, 'PTE': 54, 'TEM': 113, 'EMB': 61, 'MBE': 134, '  E': 6, 'K L': 8, 'LAN': 227, 'ANG': 162, 'NGU': 21, 'GUA': 25, 'UAG': 4, 'AGE': 371, 'GE ': 343, 'E E': 483, ' EN': 429, 'ENG': 116, 'NGL': 52, 'GLI': 15, 'LIS': 79, 'ISH': 182, 'SHO': 199, 'RIG': 132, 'IGI': 25, 'GIN': 206, 'INA': 147, 'NAL': 120, 'AL ': 510, 'L P': 60, ' PU': 176, 'PUB': 26, 'UBL': 36, 'BLI': 43, 'ICA': 165, 'ATI': 533, 'ON ': 1450, 'N N': 67, ' NE': 345, 'NEW': 99, 'EW ': 151, 'W Y': 9, 'YOR': 2, 'ORK': 113, 'RK ': 69, 'E M': 570, 'MAC': 37, 'ACM': 2, 'CMI': 2, 'MIL': 171, 'LLA': 26, 'AN ': 1186, 'COC': 1, 'OCR': 20, 'CRE': 95, 'EDI': 163, 'DIT': 116, 'ITS': 210, 'S B': 311, ' BR': 264, 'BRI': 131, 'RIA': 165, 'IAN': 708, 'COE': 1, 'OE ': 3, 'GRA': 95, 'RAE': 1, 'AEM': 1, 'EME': 255, 'ME ': 794, 'ACK': 219, 'CKR': 1, 'KRE': 1, 'RET': 172, 'ETH': 156, 'D T': 1824, ' DI': 532, 'DIS': 310, 'IST': 364, 'RIB': 149, 'IBU': 50, 'BUT': 562, 'D P': 193, 'ROO': 81, 'OOF': 7, 'OFR': 10, 'REA': 643, 'EAD': 183, 'ADI': 48, 'DIN': 193, 'TEA': 19, 'EAM': 28, 'AM ': 25, 'M A': 149, 'T H': 539, ' HT': 1, 'HTT': 8, 'TTP': 1, 'TPS': 1, 'PSW': 10, 'SWW': 1, 'W.P': 1, '.PG': 1, 'PGD': 1, 'GDP': 1, 'DP.': 1, 'P.N': 1, '.NE': 3, 'NET': 21, 'T T': 1250, ' FI': 439, 'FIL': 23, 'ILE': 213, 'WAS': 1657, 'AS ': 2150, 'S P': 307, 'ROD': 47, 'ODU': 22, 'DUC': 52, 'UCE': 38, 'CED': 139, 'D F': 343, 'M I': 76, ' IM': 136, 'IMA': 38, 'MAG': 35, 'GES': 66, 'S G': 112, ' GE': 193, 'GEN': 236, 'ENE': 443, 'NER': 211, 'ERO': 160, 'ROU': 271, 'OUS': 358, 'USL': 37, 'SLY': 43, 'LY ': 1077, 'Y M': 147, 'MAD': 197, 'ADE': 363, 'DE ': 306, ' AV': 39, 'AVA': 152, 'VAI': 35, 'AIL': 112, 'ILA': 48, 'LAB': 24, 'ABL': 339, 'BLE': 383, 'E B': 649, ' BY': 588, 'BY ': 588, 'Y T': 673, 'LIB': 9, 'IBR': 2, 'BRA': 30, 'RAR': 30, 'ARY': 118, 'F C': 160, 'CON': 664, 'ONG': 239, 'NGR': 19, 'ESS': 585, 'SS ': 345, 'S S': 507, 'TAR': 117, 'RT ': 158, 'K H': 22, '  H': 22, 'F  ': 26, 'NS ': 757, 'S  ': 42, '  B': 57, 'E  ': 92, '  R': 7, 'REV': 66, 'EV.': 1, 'V. ': 8, '. A': 354, ' A.': 19, 'A.J': 2, '.J.': 2, 'J. ': 1, '. C': 69, 'CH ': 772, 'H M': 55, ' M.': 3, 'M.A': 6, '.A.': 2, 'A. ': 89, '.  ': 30, ' SO': 632, 'SOM': 241, 'OME': 578, 'ETI': 58, 'TIM': 239, 'IME': 223, 'ROF': 29, 'OFE': 12, 'FES': 18, 'SSO': 52, 'SOR': 42, 'F L': 41, 'LAT': 137, 'TIN': 353, 'N I': 325, 'N U': 78, 'NIV': 5, 'ERS': 789, 'RSI': 217, 'SIT': 153, 'ITY': 280, 'TY ': 388, 'COL': 64, 'OLL': 201, 'LLE': 216, 'LEG': 75, 'EGE': 68, 'LON': 154, 'OND': 124, 'NDO': 29, 'DON': 155, 'N  ': 77, '  A': 46, ' AU': 68, 'F S': 165, 'M H': 63, ' HO': 371, 'HOM': 85, 'MER': 138, 'R E': 77, ' ET': 8, 'ETC': 12, 'TC.': 2, 'C. ': 64, '  Y': 11, ' YE': 206, 'YEA': 190, 'EA ': 52, 'A B': 97, ' BU': 536, 'UT ': 862, 'F W': 133, 'E R': 649, ' RI': 144, 'IGH': 501, 'GHT': 600, 'HTE': 42, 'TEO': 6, 'EOU': 13, 'US ': 752, 'S L': 149, 'LAS': 87, 'AST': 374, 'T E': 141, ' EV': 199, 'VEN': 319, 'ENT': 1071, 'NT ': 702, 'T  ': 35, '  I': 51, 'N H': 324, ' HI': 1262, 'HIG': 38, 'GHE': 19, 'HES': 235, 'HEA': 186, 'EAV': 81, 'EN ': 1246, ' BO': 171, 'BOR': 34, 'ORN': 33, 'RN ': 139, 'M G': 6, 'T Z': 1, ' ZE': 8, 'ZEU': 3, 'S W': 939, 'H S': 85, ' SA': 432, 'SAV': 29, 'AVI': 56, 'VIN': 145, 'G P': 54, ' PO': 393, 'POW': 75, 'OWE': 294, 'WER': 812, 'R I': 171, 'SEN': 244, 'NT.': 61, 'T. ': 280, ' AE': 2, 'AES': 3, 'ESC': 118, 'SCH': 27, 'CHY': 8, 'HYL': 7, 'YLU': 7, 'LUS': 100, 'SEV': 68, 'N A': 818, ' AG': 274, 'AGA': 197, 'GAI': 200, 'AIN': 643, 'INS': 253, 'NST': 184, 'HEB': 35, 'EBE': 34, 'BES': 120, 'ES.': 168, 'S. ': 579, '  N': 6, 'K  ': 2, 'COM': 504, 'OMP': 188, 'MPA': 108, 'PAN': 73, 'NY ': 234, 'Y  ': 8, '  F': 5, 'FIF': 42, 'IFT': 60, 'FTH': 101, 'ENU': 21, 'NUE': 18, 'UE ': 66, ' IL': 23, 'LLU': 42, 'UST': 207, 'TRA': 236, 'RAT': 254, 'N F': 198, ' FL': 154, 'FLI': 69, 'LIG': 79, 'HT ': 394, ' PE': 466, 'PER': 575, 'SIA': 272, ' AF': 212, 'AFT': 158, 'FTE': 183, 'R M': 82, 'MAR': 233, 'ARA': 113, 'ATH': 258, 'HON': 60, 'ON.': 160, 'N.P': 3, '.PR': 3, 'PRE': 259, 'REF': 110, 'EFA': 14, 'FAC': 56, 'ACE': 251, 'CEI': 72, 'EI ': 2, 'I H': 24, 'TOL': 52, 'OLD': 235, 'S V': 57, ' VO': 32, 'VOL': 32, 'OLU': 45, 'LUM': 6, 'UME': 40, 'E F': 754, ' FA': 319, 'FAM': 43, 'AMI': 80, 'ILI': 178, 'LIA': 138, 'IAR': 33, 'R S': 241, 'S U': 108, 'G M': 34, ' MO': 480, 'STL': 23, 'TLY': 106, 'LYT': 11, 'YTH': 77, 'L A': 146, 'RIT': 175, 'ITI': 343, 'TIE': 109, ' MY': 38, 'MYS': 22, 'YSE': 15, 'SEL': 323, 'ELF': 178, 'LF ': 175, 'POS': 323, 'OSS': 252, 'SSI': 229, 'SIB': 100, 'IBL': 127, 'LEO': 49, 'EOF': 55, 'ELP': 94, 'LP ': 47, 'P O': 43, 'F P': 95, ' PL': 208, 'PLU': 29, 'LUT': 38, 'UTA': 33, 'ARC': 151, 'H W': 151, 'WHO': 409, 'HOS': 119, 'OSE': 214, ' BI': 32, 'BIO': 2, 'IOG': 2, 'OGR': 17, 'RAP': 43, 'APH': 24, 'PHI': 41, 'HIE': 92, 'ALW': 27, 'LWA': 24, 'AYS': 94, 'YS ': 131, 'S R': 205, 'ICH': 554, 'H I': 109, 'INP': 7, 'NPI': 2, 'PIC': 42, 'CTU': 51, 'TUR': 274, 'URE': 204, 'ESQ': 2, 'SQU': 33, 'QUE': 107, ' DE': 680, 'DET': 69, 'ETA': 66, 'TAI': 201, 'ILS': 22, 'LS.': 27, '. T': 1148, 'ESE': 249, ' NA': 184, 'NAR': 100, 'ARR': 229, 'RRA': 53, 'TIV': 122, 'VES': 176, 'S N': 300, 'NEV': 61, 'R L': 58, 'LOS': 172, 'HEI': 581, 'EIR': 548, 'IR ': 514, 'INT': 440, 'NTE': 313, 'NDT': 52, 'DTH': 113, 'HEY': 608, 'EY ': 586, 'Y H': 303, 'PEC': 99, 'ECI': 85, 'CIA': 130, 'IAL': 78, 'L S': 70, ' SI': 277, 'SIG': 60, 'IGN': 112, 'GNI': 30, 'NIF': 19, 'IFI': 72, 'FIC': 131, 'CAN': 119, 'ANC': 303, 'NCE': 609, 'CE ': 662, 'THA': 1264, ' WE': 1037, 'WE ': 197, 'ALL': 731, ' LE': 413, 'T D': 151, 'DES': 274, 'ESI': 124, 'SIR': 16, 'IRE': 144, 'O B': 226, ' BE': 1350, 'BEL': 69, 'ELI': 163, 'LIE': 131, 'IEV': 43, 'T R': 164, 'ESU': 69, 'SUL': 118, 'ULT': 127, 'LTS': 11, ' AB': 213, 'ABI': 83, 'BID': 15, 'IDI': 42, 'G G': 12, ' GO': 167, 'GOO': 39, 'OOD': 97, 'OD ': 91, 'D C': 254, ' OU': 167, 'OUT': 442, 'OFT': 99, 'SSE': 243, 'SES': 126, 'ORR': 23, 'RRO': 65, 'ROW': 117, 'OWS': 32, 'AR.': 54, ' I ': 51, 'SOU': 95, 'OUG': 295, 'UGH': 328, 'O D': 147, ' DR': 99, 'DRA': 41, 'RAW': 25, 'AW ': 57, 'W O': 27, 'S T': 1202, 'HOU': 389, 'HTW': 5, 'TWI': 21, 'IL ': 56, 'L I': 85, 'N M': 109, 'MY ': 252, 'Y E': 83, ' EP': 13, 'EPI': 19, 'PIL': 13, 'ILO': 18, 'LOG': 6, 'OGU': 4, 'GUE': 35, 'UE.': 8, 'E. ': 630, 'J.C': 1, '.C.': 60, ' IG': 6, 'HTH': 42, 'HAM': 31, 'M S': 46, 'ENO': 70, 'NOA': 1, 'OAK': 4, 'AKS': 7, 'KS.': 24, '  .': 4, ' .C': 2, '.CO': 4, 'ONT': 275, 'NTS': 168, 'I  ': 4, '  G': 8, 'EEC': 57, 'ECE': 154, 'IA.': 50, 'DEF': 143, 'EFE': 148, 'FEN': 60, 'ENC': 239, '  P': 10, 'PAG': 6, ' I.': 11, 'I. ': 44, ' ME': 387, 'MEN': 499, 'N O': 468, 'F M': 110, ' II': 18, 'II.': 22, 'LIO': 14, 'N K': 33, ' KI': 146, 'KIN': 234, 'G  ': 8, 'III': 20, 'RAI': 65, 'AIT': 42, ' IV': 7, 'IV.': 4, 'WOO': 10, 'ODE': 43, 'DEN': 138, 'N W': 349, 'WAL': 45, 'LLS': 61, 'LS ': 210, '  V': 9, ' V.': 4, ' BA': 367, 'BAT': 204, 'ATT': 457, 'TTL': 253, 'LES': 305, 'PLA': 220, 'LAI': 116, 'D O': 467, ' SH': 424, 'II ': 21, ' CA': 896, 'CAR': 358, 'RTH': 441, 'HAG': 211, 'LOR': 28, 'ORD': 187, 'RD ': 121, ' SY': 81, 'SYR': 74, 'YRA': 83, 'RAC': 203, 'ACU': 81, 'CUS': 105, 'ORM': 160, 'RM ': 55, 'M F': 41, 'AFR': 36, 'FRI': 83, 'CA ': 15, 'A  ': 3, '. D': 31, 'DIO': 36, 'ONY': 37, 'NYS': 27, 'YSI': 32, 'SIU': 45, 'IUS': 232, ' TY': 19, 'TYR': 21, 'RAN': 263, 'ANT': 400, 'DEL': 72, 'LIV': 84, 'RER': 20, 'R F': 153, 'M C': 31, 'COR': 97, 'RIN': 246, 'NTH': 155, 'H  ': 8, 'TTA': 147, 'TAC': 184, 'FIG': 86, 'RIV': 163, ' IR': 12, 'IRR': 9, 'RRE': 84, 'SIS': 90, 'STI': 283, 'TIB': 16, ' PH': 64, 'PHA': 45, 'HAL': 105, 'ALA': 72, 'ANX': 18, 'NX ': 9, 'X  ': 1, 'ARM': 348, 'RMY': 180, ' HU': 117, 'HUN': 66, 'NDR': 65, 'DRE': 108, 'ROV': 110, 'OVI': 93, 'CES': 306, 'IV ': 1, 'V  ': 2, 'SER': 194, 'ERV': 132, 'RVA': 18, 'VAN': 133, '. F': 75, ' RU': 59, 'RUL': 39, 'ULE': 33, 'SEA': 71, 'RTY': 73, 'YR ': 2, 'PAT': 40, 'ATR': 21, 'RIO': 181, 'IOT': 29, 'SON': 190, 'HTN': 6, 'TNI': 6, 'NIN': 149, 'VAL': 196, 'NCH': 20, 'ALP': 23, 'LPS': 18, 'PS ': 136, ' VI': 154, 'VI.': 3, 'ISA': 105, 'SAS': 62, 'STE': 301, 'LAK': 13, 'AKE': 227, 'KE ': 182, 'VII': 16, ' OV': 106, 'OVE': 292, 'ERT': 208, 'THR': 205, 'HRO': 92, 'OW ': 291, 'W A': 42, 'T C': 231, 'ANN': 199, 'NN ': 11, 'SEC': 79, 'ECR': 30, 'T M': 189, ' IX': 2, 'IX.': 3, 'X. ': 7, '. H': 420, 'HAN': 489, 'NNI': 146, 'NIB': 115, 'IBA': 115, 'BAL': 163, 'ALS': 147, 'T B': 287, '  X': 2, ' X.': 1, ' BL': 51, 'BLO': 37, 'LOT': 23, 'OTT': 23, 'TTI': 33, 'G O': 137, 'K V': 7, ' V ': 1, 'BAR': 140, 'ARB': 88, 'RBA': 70, 'ARI': 274, 'NS.': 82, 'RIS': 165, 'ISE': 158, 'DAY': 130, 'LLI': 159, 'IA ': 125, ' AP': 110, 'APO': 20, 'POL': 64, 'LLO': 181, 'LO ': 14, 'O T': 596, 'END': 302, ' SW': 54, 'SWA': 30, 'NOR': 130, 'ORT': 440, '. B': 202, 'BEY': 32, 'EYO': 27, ' PY': 13, 'PYR': 33, 'YRE': 20, 'REN': 167, 'NEE': 48, 'EES': 23, ' AC': 283, 'ACR': 53, 'CRO': 99, 'ROS': 99, ' EU': 38, 'EUP': 17, 'UPH': 10, 'PHR': 17, 'HRA': 38, 'ONQ': 48, 'NQU': 62, 'UES': 63, 'STS': 54, ' CS': 60, 'CSA': 65, 'SAR': 105, ' FU': 87, 'FUR': 44, 'URT': 37, 'ITA': 214, ' RH': 30, 'RHI': 27, 'HIN': 321, ' AD': 200, 'ADV': 136, 'DVA': 107, 'VI ': 2, 'DEC': 86, 'ECL': 23, 'CLI': 12, ' A ': 1374, 'A C': 176, ' CE': 170, 'NTU': 101, 'URY': 54, 'F D': 76, 'ISG': 9, 'SGR': 8, 'F R': 95, 'EVI': 52, 'VIV': 23, 'IVA': 43, 'L  ': 5, 'EE ': 119, 'DEA': 107, 'ADL': 17, 'DLY': 72, 'Y B': 198, 'LOW': 214, '  L': 7, 'F I': 87, 'RON': 227, 'NTI': 237, 'TIS': 41, 'ISP': 49, 'SPI': 57, 'PIE': 47, 'IEC': 6, ' TI': 245, 'IMO': 33, 'MOL': 27, 'OLE': 108, 'EON': 46, 'HOL': 120, 'LDI': 91, ' CR': 181, 'CRI': 79, 'RIM': 12, 'MES': 96, 'SSU': 70, 'SUS': 76, 'ISS': 95, '  D': 9, 'FEA': 87, ' CI': 194, 'CIM': 30, 'IMB': 34, 'MBR': 36, 'RI ': 29, 'I I': 5, '  W': 22, 'WAG': 10, 'AGG': 46, 'GGO': 7, 'GON': 42, '  C': 7, 'CRA': 42, 'RAS': 52, 'ASS': 271, 'S D': 228, 'D B': 745, 'HIA': 44, ' TR': 375, 'RAJ': 15, 'AJA': 16, 'JAN': 17, 'N B': 231, 'SIE': 50, 'IEG': 45, 'EGI': 113, 'G A': 211, 'A D': 88, 'DAC': 24, 'ACI': 55, 'TIL': 169, 'LA ': 31, 'A A': 82, 'D L': 94, 'EO ': 2, 'O  ': 6, '  M': 26, 'Y D': 141, 'DAU': 11, 'AUG': 46, 'RSB': 2, 'SBO': 3, 'IGR': 22, 'EI.': 5, 'ONW': 8, 'NWE': 9, 'Y S': 269, 'SAY': 83, 'A F': 146, 'AMO': 91, 'MOU': 103, 'HIL': 111, 'OSO': 8, 'SOP': 12, 'OPH': 20, 'PHE': 20, 'SAI': 126, 'AID': 124, 'ID ': 247, 'EVO': 18, 'UTI': 66, 'TTH': 76, 'HAP': 63, 'APP': 164, 'PPE': 102, 'PEN': 112, 'ABO': 123, 'BOU': 169, 'LIT': 197, 'ITT': 121, 'NGS': 76, 'GS ': 67, 'T S': 308, 'SPR': 40, 'PRI': 129, 'G F': 70, 'CAU': 67, 'AUS': 93, '. W': 144, 'HEN': 443, 'ENH': 10, 'NHE': 9, 'ODO': 31, 'DOT': 25, 'OTU': 22, 'TUS': 60, 'BEG': 72, 'INN': 22, 'S H': 413, 'ORY': 170, 'Y P': 137, 'ROC': 30, 'OCE': 22, 'CEE': 43, 'EED': 172, 'EDS': 25, 'DS ': 183, 'O P': 130, 'PUT': 125, 'N R': 112, 'REC': 195, 'ECO': 162, 'HEG': 40, 'EGR': 34, 'GRO': 63, 'NDS': 122, 'T F': 239, ' FE': 192, 'FEU': 2, 'EUD': 2, 'UD ': 5, 'BET': 110, 'ETW': 73, 'TWE': 110, 'WEE': 73, 'EEN': 496, 'HET': 54, 'ETE': 111, 'TEL': 109, 'ELL': 230, 'F V': 25, ' VA': 120, 'VAR': 40, 'IOU': 127, 'UTR': 10, 'RAG': 88, 'S C': 409, 'OMM': 209, 'MMI': 14, 'MIT': 101, 'TTE': 211, 'HEP': 55, 'EPH': 25, 'PHN': 17, 'HNI': 15, 'NIC': 100, 'ICI': 139, 'EGA': 73, 'GAN': 55, 'RRY': 31, 'RYI': 18, 'YIN': 94, 'OFF': 147, 'FF ': 42, ' IO': 2, 'IO ': 42, 'NAC': 21, 'ACH': 183, 'HUS': 63, 'KSR': 3, 'SRE': 19, 'TAL': 160, 'ALI': 85, 'IAT': 98, 'Y L': 90, 'NDI': 144, 'BEA': 35, 'E K': 102, 'EUR': 22, 'URO': 20, 'ROP': 79, 'OP.': 1, 'P. ': 60, 'Y F': 162, 'FOL': 132, 'WED': 122, 'CAP': 152, 'APT': 63, 'PTU': 37, 'MED': 199, 'EDE': 89, 'A P': 114, 'OFC': 19, 'FCO': 11, 'OLC': 3, 'LCH': 4, 'CHI': 153, 'HI.': 3, 'N P': 160, 'TRO': 245, 'ROY': 49, 'OY ': 12, 'Y R': 127, ' RA': 179, 'FAI': 71, 'AIR': 57, 'R H': 244, 'LEN': 107, 'SPA': 156, 'RTA': 204, 'TA ': 29, 'A H': 101, 'HEW': 38, 'EWA': 55, 'NLY': 139, 'SET': 60, 'ETT': 70, 'ACC': 143, 'CCO': 80, 'AIG': 48, 'HT.': 33, 'RDI': 59, 'TOT': 53, 'N S': 297, 'SAG': 42, 'SEE': 194, 'EEM': 140, 'EMS': 104, 'MS ': 113, 'O A': 268, 'AGR': 100, 'S M': 243, 'FAT': 55, 'ATA': 62, 'L M': 46, ' MI': 270, 'MIS': 144, 'TAK': 142, 'KE.': 5, 'Y A': 509, 'ACT': 280, 'TUA': 70, 'UAL': 138, 'LLY': 249, 'LED': 260, 'A G': 77, 'NTO': 211, ' AS': 719, 'ASI': 126, 'A T': 107, 'COV': 39, 'AWO': 3, 'THL': 6, 'HLE': 7, 'WOM': 12, 'GH ': 148, ' SU': 569, 'SUC': 226, 'UCH': 180, 'H P': 41, 'PEO': 47, 'EOP': 54, 'OPL': 54, 'PLE': 170, 'LE.': 87, 'E.T': 32, '.TH': 188, 'T I': 503, 'A V': 48, ' VE': 172, 'ERY': 199, 'ERP': 37, 'RPR': 34, 'ISI': 118, 'CEC': 5, 'ECA': 104, 'CAM': 288, 'AME': 313, 'O F': 141, 'REQ': 32, 'EQU': 91, 'UEN': 29, 'SIO': 174, ' EA': 164, 'ERN': 169, 'NEI': 49, 'EIG': 109, 'GHB': 35, 'HBO': 36, 'OUR': 397, 'URS': 121, 'RS.': 84, 'ATC': 45, 'TCH': 54, 'CHG': 1, 'HGL': 1, 'LIM': 35, 'IMP': 135, 'MPS': 10, 'PSE': 2, 'S I': 499, 'N V': 36, 'REM': 170, 'EMO': 55, 'MOT': 33, 'OTE': 163, 'HOW': 186, 'WEV': 75, 'R W': 274, 'D N': 335, 'OTG': 2, 'TGO': 1, 'GO ': 21, 'BAC': 73, 'CK.': 26, 'K. ': 44, 'TOW': 67, 'OWA': 17, 'ARD': 253, 'RDS': 95, ' EI': 60, 'H O': 124, 'ARL': 92, 'RLY': 95, 'H C': 72, 'RYB': 9, 'YB.': 1, 'B.C': 58, ' LY': 7, 'LYD': 8, 'YDI': 5, 'DIA': 50, 'O E': 101, 'NCR': 23, 'ROA': 49, 'OAC': 24, 'R G': 57, 'EK ': 122, 'K N': 10, 'RSA': 22, 'SAN': 179, 'UER': 35, 'CIT': 187, 'R C': 149, 'TY.': 67, 'Y. ': 283, 'CRS': 1, 'RSU': 36, 'HO ': 248, 'O W': 179, ' DY': 3, 'DYN': 2, 'YNA': 4, 'NAS': 12, 'STY': 6, 'TYH': 1, 'YHA': 18, 'HAD': 993, 'AD ': 993, 'D M': 211, 'HIM': 384, 'IMS': 143, 'MSE': 203, 'MAS': 53, 'L O': 82, 'HEM': 427, 'EM ': 249, 'M B': 44, 'F O': 78, 'OWN': 282, 'WNB': 1, 'NBY': 10, ' CY': 7, 'CYR': 4, 'YRU': 2, 'RUS': 95, 'AN.': 33, 'N. ': 266, 'MEA': 60, 'EAN': 105, 'CHA': 200, 'NGE': 272, '. L': 44, 'D G': 78, 'G B': 53, 'BEE': 350, 'OUL': 495, 'ULD': 496, 'O L': 76, 'LER': 50, 'ERA': 320, 'RAB': 76, 'MS.': 17, 'GER': 177, 'A R': 76, 'NDW': 13, 'DWE': 11, 'HAR': 179, 'RSH': 27, 'SHE': 197, 'EMP': 202, 'MPE': 104, ' B.': 57, 'RAL': 176, 'L R': 54, 'REB': 16, 'TOO': 156, 'K P': 34, 'LAC': 115, 'EIN': 128, 'RSE': 159, 'WHI': 615, 'HIC': 558, 'CAL': 165, 'L C': 68, 'API': 36, 'PIT': 40, 'ASB': 8, 'SBU': 10, 'BUR': 31, 'URN': 122, 'RNT': 19, 'ENI': 131, 'NIA': 266, 'OOP': 74, 'OPS': 68, 'AFF': 45, 'FFA': 26, 'IMM': 40, 'MME': 58, 'TRU': 166, 'RUG': 48, 'UGG': 72, 'GGL': 50, 'GLE': 78, 'ATF': 5, 'TFO': 7, 'ED.': 307, 'D. ': 423, 'R B': 104, 'N G': 119, 'A L': 76, 'OFD': 7, 'FDO': 2, 'DOU': 34, 'OUB': 38, 'UBT': 28, 'BTF': 6, 'TFU': 12, 'FUL': 134, 'UL ': 122, 'EAC': 165, 'FIR': 144, 'IRS': 140, 'RST': 154, 'ONF': 79, 'NFL': 62, 'CTW': 2, 'TWA': 42, 'N.I': 13, '.IN': 21, 'SUM': 38, 'UMM': 18, 'BAY': 4, 'OFM': 8, 'FMA': 3, 'N D': 117, 'TAN': 289, ' TW': 175, 'WEN': 67, 'NTY': 47, 'W F': 23, 'ESA': 35, 'SAB': 11, 'TYF': 16, 'YFI': 9, 'FIV': 31, 'OAD': 27, 'PRA': 54, 'TIC': 208, 'CAB': 7, 'HEE': 50, 'EEL': 31, 'ONV': 28, 'NVE': 39, 'VEY': 3, 'EYA': 3, 'YAN': 13, 'S.O': 4, '.OF': 8, ' NU': 111, 'NUM': 137, 'UMB': 117, ' KN': 98, 'KNO': 89, 'NOW': 213, 'W N': 9, 'NG.': 59, 'O I': 83, 'UR ': 165, 'TAU': 13, 'ROB': 83, 'OBA': 72, 'BAB': 71, 'BLY': 123, ' TA': 187, 'ALK': 6, 'LKE': 2, 'KED': 124, 'O H': 320, 'FOU': 175, 'HTI': 31, 'IGU': 28, 'GUR': 25, ' WR': 41, 'WRI': 30, 'EAK': 59, 'AK ': 27, 'MPO': 81, 'BEI': 74, 'LAR': 131, 'ARG': 108, 'RGE': 133, ' SM': 30, 'SMA': 62, 'MAL': 47, ' ES': 83, 'MAT': 93, 'TE.': 38, 'TOC': 43, 'GEA': 26, 'A W': 94, 'WOU': 215, 'D H': 501, 'AVY': 39, 'VY ': 50, 'TAS': 19, 'ASK': 36, 'SK.': 2, 'K.I': 3, '.IF': 2, 'HAS': 96, 'BE ': 436, 'Y V': 18, 'O S': 260, 'Y .': 2, ' . ': 26, 'NSN': 5, 'SNU': 3, 'D  ': 24, 'M  ': 6, 'M P': 19, 'LEB': 8, 'BOT': 47, 'OTI': 48, 'TIA': 60, 'WN ': 222, 'NTL': 34, 'KEN': 113, 'ROT': 77, 'TEC': 44, 'N.T': 21, 'SIX': 38, 'IX ': 37, 'X M': 5, 'THW': 29, 'HWE': 8, 'WES': 68, 'TON': 66, 'ONO': 64, 'BRE': 36, 'ADT': 7, 'H V': 8, 'TWO': 153, 'WO ': 131, 'O O': 99, 'NDA': 82, 'DAH': 1, 'AHA': 6, '. O': 112, 'SH ': 67, 'DIV': 53, 'IVI': 90, 'VID': 51, 'IDE': 312, 'A N': 53, 'W S': 36, ' SL': 92, 'SLI': 19, 'LIP': 12, 'IP ': 57, 'ND.': 93, 'ANO': 81, 'RSM': 4, 'ST.': 65, 'ALO': 55, ' ED': 9, 'EDG': 18, 'DGE': 30, 'WAM': 2, 'AMP': 191, 'MP ': 59, 'P R': 4, ' OB': 56, 'OBJ': 15, 'BJE': 42, 'EPE': 54, 'L T': 242, 'SEI': 23, 'EIZ': 15, 'IZE': 53, 'ZE ': 11, 'MMA': 148, 'TOP': 30, 'OPR': 12, 'IT.': 69, 'WIN': 98, 'G R': 22, 'EAW': 1, 'SLO': 15, 'LOP': 29, 'OPE': 131, 'PE ': 63, 'OWC': 4, 'WCA': 2, 'GRI': 32, 'IEL': 83, 'LIK': 48, 'IKI': 2, 'KI ': 1, 'I T': 14, 'SPU': 16, 'PUR': 58, 'ICU': 73, 'US.': 85, 'A M': 129, 'LEF': 99, 'EFR': 13, 'L B': 51, 'EMA': 165, 'MAI': 121, 'AIS': 33, 'SED': 342, 'EDO': 57, 'DOV': 4, 'BON': 10, 'NES': 180, 'SLA': 136, 'LET': 76, 'ARK': 70, 'RKS': 44, 'SPO': 91, 'POT': 35, 'GED': 139, 'FIE': 134, 'IER': 148, 'ERC': 124, 'RCE': 242, 'CEL': 51, 'ELY': 165, 'LY.': 60, 'SO ': 215, 'N L': 93, ' MU': 206, 'MUS': 119, 'A S': 244, 'RTD': 1, 'TDI': 4, 'D.T': 20, 'ARN': 27, 'RNI': 39, 'PPR': 35, 'ORC': 148, 'ESH': 28, 'SHA': 88, 'SWI': 29, 'WIF': 10, 'FT ': 79, 'RUN': 25, 'UNN': 5, 'NNE': 51, 'EG ': 3, 'LP.': 15, 'HED': 271, 'DSP': 6, 'ANF': 7, 'NFO': 53, 'TYE': 6, 'YEI': 5, 'D D': 155, ' EX': 275, 'EXP': 129, 'XPR': 13, 'NSP': 37, 'OMI': 86, 'HEF': 38, 'EFU': 84, 'ULL': 79, 'MOO': 7, 'OON': 46, 'FF.': 8, 'F. ': 45, 'E Q': 35, ' QU': 85, ' AM': 112, 'MON': 139, 'LST': 8, 'STH': 88, 'D E': 123, 'H H': 232, 'DWA': 11, 'ONC': 120, 'WAI': 21, 'NCO': 70, 'EEQ': 1, 'QUA': 113, ' OP': 107, 'OPI': 25, 'PIN': 38, 'INI': 213, 'NIO': 43, 'ILT': 26, 'LTI': 60, 'IAD': 14, 'GUI': 25, 'UIS': 27, 'R N': 57, 'EAG': 35, 'UCC': 131, 'CCE': 176, 'NGO': 8, 'GOV': 22, 'VIE': 33, 'IEW': 21, 'EWS': 35, 'LEM': 31, 'LAY': 55, 'CAS': 42, 'SEO': 7, 'N E': 202, ' EQ': 35, 'L D': 35, 'VIS': 62, 'O G': 88, 'G V': 11, 'VOT': 13, 'HEH': 40, 'EHA': 48, 'ASO': 51, 'MPT': 79, 'PTI': 47, 'ITU': 66, 'TUD': 26, 'VED': 225, 'Y G': 56, 'CE.': 161, 'TRE': 223, 'F B': 61, 'ELD': 142, 'NAT': 209, 'VEP': 3, 'SAC': 48, 'AC ': 2, 'C T': 9, 'IBE': 101, 'W R': 10, 'REP': 163, 'EPR': 52, 'ETU': 55, 'RCO': 19, 'RMA': 77, '. S': 123, 'MEC': 8, 'CAV': 101, 'ALR': 123, 'LRY': 100, 'NED': 322, 'AKI': 44, 'EBA': 37, 'ONJ': 1, 'NJE': 1, 'SEM': 47, 'MBA': 46, 'RKE': 23, 'CER': 134, 'INL': 63, 'DIF': 49, 'IFF': 47, 'FFI': 101, 'CUL': 74, 'LT ': 107, 'GET': 60, 'ORS': 161, 'BOA': 23, 'OAR': 14, 'Y N': 73, 'EDW': 31, 'ASD': 37, 'SDR': 30, 'AWN': 19, ' UP': 223, 'UP ': 137, 'P S': 6, 'NGT': 82, 'GTH': 71, ' EF': 58, 'EFF': 67, 'FFE': 159, 'FEC': 65, 'ITW': 17, 'NEC': 33, 'SSA': 153, 'O M': 162, 'MAK': 87, 'T V': 38, 'TS.': 44, '. N': 66, 'HTA': 21, 'RME': 102, 'SOL': 152, 'DIE': 120, 'L W': 123, 'VYA': 9, 'YAR': 16, 'FEW': 59, 'LAV': 19, 'DAN': 100, 'G W': 93, 'DBY': 20, 'EFT': 86, 'FT.': 7, 'T.T': 24, 'PAC': 29, 'RMI': 143, 'MIE': 51, 'S.M': 5, '.MI': 6, 'RDE': 112, 'UN.': 3, 'NGH': 22, 'GHA': 3, ' DO': 264, 'REG': 72, 'EGU': 24, 'GUL': 25, 'ULA': 81, 'ARF': 10, 'RFA': 7, 'FAR': 68, 'RE.': 63, 'AMA': 48, 'MAZ': 5, 'AZI': 2, 'ZIN': 4, 'ATO': 24, 'TOF': 35, 'H F': 52, 'RMO': 46, 'UR.': 23, 'RKA': 13, 'KAB': 12, 'LEW': 11, 'URA': 85, 'MOV': 91, 'VEM': 44, 'OTL': 7, 'RNE': 82, 'LOO': 41, 'K D': 4, 'DOW': 47, 'UPO': 84, 'PON': 139, 'NEM': 154, 'EMY': 134, 'EDT': 97, 'DTO': 47, 'ADM': 27, 'DME': 6, 'FEL': 72, 'ELT': 41, 'ENW': 11, 'EMI': 81, 'HAK': 6, 'NFI': 23, 'FID': 20, 'CEW': 9, 'EWI': 14, 'OKE': 89, 'ORW': 23, 'RWA': 57, 'O V': 16, 'VIC': 129, 'CTO': 87, 'RY.': 73, 'IRG': 8, 'RGR': 5, 'TOH': 25, 'OHA': 24, 'NBR': 6, 'BRO': 140, 'ROK': 49, 'DEE': 85, 'EEP': 50, 'EP.': 5, 'SUE': 31, 'UED': 38, 'MID': 49, 'IDD': 14, 'DDL': 6, 'DLE': 24, ' CU': 50, 'CUR': 58, 'URI': 115, 'EEI': 7, 'NDF': 21, 'DFI': 6, 'L E': 26, 'NOM': 11, 'H E': 32, 'EIT': 52, 'QUI': 79, 'UIP': 11, 'IPM': 8, 'PME': 12, 'DVE': 11, 'EPO': 30, 'POE': 6, 'OET': 7, ' SC': 123, 'OUD': 9, 'K A': 64, 'BOW': 4, 'EDR': 8, 'RAM': 32, 'MA ': 3, 'EBR': 10, 'CRU': 43, 'USH': 38, 'SHI': 190, 'G D': 33, 'A I': 25, 'DAS': 26, 'AUL': 120, 'KES': 24, 'CHO': 38, 'ORU': 10, 'NSI': 101, 'T K': 17, 'GSC': 3, 'SCO': 55, 'UNC': 43, 'NCI': 91, 'CIL': 83, 'OAS': 38, 'W T': 111, 'IRO': 20, 'HAI': 9, 'CUM': 31, 'CEA': 30, 'PPY': 7, 'S K': 33, 'EVA': 21, 'OW.': 18, 'W. ': 17, 'AY.': 58, 'HOC': 25, 'OCK': 18, 'ANK': 107, 'NKS': 39, 'OPP': 86, 'PPO': 116, ' TU': 53, 'RTU': 100, 'TUN': 87, 'UNE': 64, 'SOO': 42, 'MPL': 137, 'PLI': 75, 'ANL': 6, 'PID': 18, 'ETR': 63, 'AT.': 27, '. P': 54, 'PAU': 36, 'USA': 134, 'ANI': 150, 'IAS': 41, 'FUG': 25, 'UGI': 14, 'GIT': 20, 'ESR': 4, 'SRU': 1, 'IND': 264, 'SSW': 5, 'THU': 50, 'D.M': 5, 'NXI': 5, 'XIO': 4, 'D U': 76, 'P T': 93, 'FLY': 14, 'LYI': 35, 'AVO': 39, 'VOU': 32, 'CUT': 36, 'SSS': 1, 'SSF': 31, 'SFU': 33, 'NCU': 7, 'URR': 63, 'ERI': 281, 'SS.': 41, 'PT ': 88, 'HIP': 152, 'IPS': 81, 'W D': 11, 'LL.': 28, 'L. ': 83, 'NDC': 13, 'DCU': 2, ' AX': 1, 'AXE': 8, 'XE ': 1, 'IED': 218, 'TAW': 2, 'OSI': 98, 'MOR': 228, 'BEH': 39, 'EHI': 38, 'CHL': 5, 'HLY': 11, 'NIS': 102, 'OOT': 106, 'OTY': 13, 'ROR': 65, 'S.A': 11, '.AT': 6, 'T Y': 44, 'YET': 37, 'SAF': 44, 'AFE': 41, 'FE.': 18, 'IPP': 27, 'PPI': 13, 'PIA': 13, 'ERH': 27, 'RHA': 19, 'ESP': 87, 'IC ': 173, 'C P': 8, 'DRI': 43, 'TOE': 7, 'OEX': 2, 'EXI': 43, 'XIL': 18, 'Y Y': 27, 'HOP': 52, 'IEN': 126, 'DSF': 2, 'SFO': 49, 'T P': 133, 'PLO': 38, 'ISR': 8, 'RNW': 3, 'NWO': 9, 'FAV': 26, 'DID': 137, 'ALT': 70, 'LTO': 14, 'TOG': 28, 'OGE': 30, 'IM.': 51, 'M.W': 1, '.WH': 23, 'GNA': 24, 'OLI': 63, 'FLA': 39, 'ASH': 32, 'NGI': 34, 'SUN': 23, 'UNL': 15, 'EIV': 63, 'DIC': 35, 'NTA': 133, 'TAG': 68, 'ABS': 21, 'BSE': 28, 'ASR': 3, 'ADY': 43, 'DY ': 70, 'CT.': 26, 'FLE': 94, 'LEE': 82, 'EET': 113, 'GLY': 33, 'DIR': 22, 'APE': 72, 'PES': 10, 'NIU': 49, 'IUM': 56, 'UM ': 75, 'M W': 87, 'CEG': 1, 'GAV': 39, 'H B': 44, 'ITO': 39, 'FOI': 2, 'OIL': 25, 'MAP': 2, 'AP ': 6, 'P W': 41, 'CIR': 22, 'IRC': 28, 'RCU': 24, 'CUI': 4, 'UIT': 58, 'IXT': 16, 'XTY': 10, 'MYW': 6, 'YWO': 5, 'H L': 21, 'MOD': 21, 'REW': 74, 'EWH': 39, 'RUT': 16, 'TH.': 37, 'H. ': 52, 'EDA': 49, ' NI': 52, 'ETY': 30, 'TYT': 9, 'YTW': 2, 'IN.': 49, 'EAP': 18, 'PED': 89, 'OP ': 16, 'DTE': 2, ' PI': 61, 'NSC': 17, 'SCR': 47, 'BED': 31, 'THT': 16, 'NAM': 87, ' EL': 86, 'LEV': 33, 'MEM': 23, 'ORA': 48, 'SA ': 27, 'WEL': 81, 'LFT': 4, 'FMI': 1, 'ONU': 4, ' ER': 16, 'CTE': 179, 'IM ': 167, 'M O': 61, 'SAM': 83, 'OT.': 7, 'G S': 60, 'HIR': 49, 'IRT': 37, 'FEE': 44, ' YA': 2, 'UMF': 1, 'MFE': 1, 'FER': 145, 'EXC': 47, 'XCA': 1, 'VAT': 23, 'K G': 3, 'RNM': 14, 'NME': 16, 'HUM': 27, 'UMA': 19, 'E V': 118, 'IOD': 22, 'IXC': 1, 'XCE': 35, 'NIG': 36, 'ESN': 3, 'SNE': 13, 'GHI': 10, 'ADD': 42, 'DDS': 7, 'BAD': 13, ' LU': 28, 'LUC': 22, 'UCK': 21, 'UTO': 21, 'IOS': 5, 'O U': 28, 'UNW': 21, 'NWI': 19, 'HTS': 10, 'BYA': 9, 'YAC': 5, 'CCI': 6, 'CID': 43, 'PIR': 75, 'IRI': 28, 'GRY': 2, 'RAD': 55, 'UTM': 9, 'TMA': 14, 'EFI': 38, 'LDS': 16, 'LD.': 35, 'ERD': 11, 'FED': 9, 'IRF': 6, 'RFL': 3, 'FLO': 17, 'CKS': 19, 'SAW': 42, 'CTR': 38, 'CUO': 12, 'UOU': 18, 'SCE': 49, 'ATB': 2, 'TBA': 4, 'RLE': 14, 'AGN': 6, 'GNE': 13, 'HAU': 13, 'AUN': 3, 'D.I': 10, '.IT': 28, 'RRI': 155, 'ADA': 31, 'ATL': 26, 'ME.': 88, 'E.I': 18, '.II': 12, 'IIT': 9, 'NGD': 17, 'GDA': 3, 'DAR': 48, 'RIU': 72, 'EPU': 36, 'PUL': 48, 'ULS': 89, 'LSE': 29, 'ASF': 13, 'SFI': 10, 'FIN': 99, 'AL.': 37, 'EPA': 83, 'NSF': 13, 'W E': 11, 'XPE': 88, 'ERW': 46, 'RWH': 11, 'LMI': 8, 'MIN': 166, 'NGF': 10, 'GFO': 8, 'RSO': 51, 'OLT': 12, 'KEO': 3, ' EG': 14, 'EGY': 12, 'GYP': 8, 'YPT': 8, 'ELA': 60, 'AYE': 31, 'YED': 62, 'NYH': 17, 'YHO': 20, 'W H': 40, 'REI': 41, 'TYS': 10, 'IXY': 1, 'XYE': 1, 'H Y': 12, '. X': 5, ' XE': 14, 'XER': 26, 'ERX': 17, 'RXE': 17, 'XES': 20, 'LDE': 37, 'IMW': 4, 'MWI': 3, 'MEO': 8, 'INV': 89, 'NVA': 61, 'VAS': 32, 'SUA': 39, 'UAD': 31, 'NPR': 16, 'OMO': 9, 'G I': 92, 'ERR': 81, 'RRU': 14, 'RUP': 13, 'UPT': 14, 'NSU': 105, 'SUR': 109, 'UTU': 17, 'TUM': 41, 'UMN': 6, 'MNO': 7, 'NOF': 34, 'F G': 76, 'MBL': 24, 'TSA': 10, 'IS.': 15, 'ELS': 23, 'SEW': 17, 'I A': 34, 'M N': 29, 'ITM': 3, 'TMU': 2, 'SUF': 57, 'UFF': 59, 'UGU': 11, 'GUS': 11, ' OC': 56, 'OCC': 56, 'CCU': 54, 'CUP': 35, 'UPI': 30, 'SAL': 63, 'ALY': 72, 'PAS': 89, 'ADS': 10, 'GIO': 81, 'OLO': 20, 'MOP': 20, 'PYL': 16, 'YL ': 11, 'HOT': 11, ' GA': 200, 'GAT': 37, 'O N': 55, 'W P': 9, 'WID': 10, 'IDT': 5, 'IAG': 3, 'UIR': 19, 'A O': 22, 'NIM': 13, 'COA': 31, 'TLI': 14, 'NE.': 53, 'SID': 145, 'RTI': 90, 'STW': 23, 'RD.': 25, 'NMO': 9, 'MEP': 2, 'ERL': 30, 'ELO': 74, 'OHE': 2, 'SUP': 98, 'UPP': 57, 'PPL': 45, 'PLY': 38, 'CIN': 31, 'THS': 60, 'HS.': 6, 'VEL': 49, 'LSP': 1, 'AD.': 12, 'BUI': 20, 'UIL': 28, 'FAL': 58, 'RUI': 24, 'UIN': 21, 'S.I': 12, 'ONI': 157, 'NID': 12, 'IDA': 51, 'O K': 19, 'K U': 22, 'P H': 34, 'N J': 7, ' JU': 38, 'JUL': 6, 'ULY': 6, 'PEL': 57, 'OPO': 43, 'ONN': 30, 'F F': 60, 'PI ': 3, 'I O': 7, 'WNS': 18, 'H D': 34, 'LYF': 8, 'YFR': 4, 'RYM': 27, 'YME': 36, 'BAN': 78, 'MPU': 9, 'LSI': 5, 'FUS': 52, 'DEM': 69, 'OFL': 5, 'ASA': 25, 'LSO': 42, 'O J': 10, 'JOI': 28, 'OIN': 102, 'PHO': 19, 'OCI': 28, 'SUB': 73, 'UBM': 15, 'BMI': 15, 'NSB': 3, 'EYW': 14, 'YWE': 14, 'K C': 34, 'IEF': 78, 'EF ': 46, 'MUC': 77, 'UPE': 34, 'IOR': 53, 'E.L': 1, '.LE': 1, 'PAI': 101, 'FRU': 3, 'GS.': 5, 'LYW': 8, 'YWA': 8, 'INF': 121, 'EDF': 16, 'DFR': 12, 'POI': 64, 'UAR': 55, 'OWL': 24, 'WLE': 12, 'LYA': 12, 'ISC': 68, 'EM.': 73, 'M. ': 140, 'WIS': 27, 'ABA': 19, 'YLA': 1, 'LAL': 1, 'LYU': 4, 'YUR': 2, 'URG': 25, 'R D': 89, 'THM': 9, 'HMU': 6, 'NTM': 8, 'TME': 18, 'K S': 35, ' UR': 18, 'CEM': 18, 'Y U': 43, 'NEQ': 7, 'D.X': 2, '.XE': 2, 'NCA': 20, 'NNO': 37, 'NOI': 3, 'OIT': 13, 'ITR': 6, 'AS.': 5, 'RDT': 2, 'OBS': 31, 'RVE': 69, 'NGA': 48, 'GAG': 42, 'C E': 7, 'EXE': 22, 'RCI': 32, 'CIS': 29, 'OMB': 37, 'MBI': 27, 'BIN': 23, 'IR.': 7, 'ATU': 58, 'D K': 11, 'H X': 2, 'ENQ': 1, 'VIO': 17, 'TOI': 11, 'U H': 8, 'EAL': 118, 'OFG': 8, 'FGR': 2, 'RAV': 48, 'EN.': 67, 'W C': 29, 'NYC': 2, 'YCO': 21, 'SKE': 19, 'D X': 3, 'BT ': 4, 'ISB': 12, 'SBI': 1, 'BIG': 2, 'IG ': 3, 'ORF': 5, 'RFO': 25, 'CTA': 15, 'INK': 38, 'NK ': 63, 'K B': 16, 'URP': 40, 'RPO': 33, 'TIR': 21, 'T.O': 1, '.ON': 17, 'IRP': 4, 'S X': 2, 'W K': 7, ' KH': 1, 'KHU': 1, 'HUZ': 1, 'UZI': 1, 'ZIS': 1, 'ANW': 12, 'RUC': 57, 'UCT': 57, 'K.M': 1, '.MA': 10, 'INH': 31, 'NHA': 43, 'TEP': 9, 'EPP': 1, ' DU': 52, 'DUR': 33, 'H N': 30, 'CEP': 60, 'VYL': 2, 'YLO': 2, 'W X': 1, 'ORP': 13, 'RPS': 5, 'PSD': 1, 'SDL': 1, 'DLI': 7, 'MMO': 43, 'CKC': 2, 'KCO': 2, 'THN': 2, 'HNO': 2, 'RTE': 92, 'WNE': 14, 'EMT': 7, 'MTO': 5, 'SSP': 2, ' SK': 23, 'SKI': 32, 'KIL': 37, 'SPL': 32, 'D.O': 6, 'HOD': 9, 'ODS': 16, 'FEI': 3, 'GN ': 29, 'LUR': 6, '. V': 18, 'SWE': 57, 'RYS': 5, 'YSM': 1, 'HRI': 9, 'GEM': 41, 'WAT': 32, 'ORH': 5, 'MY.': 48, 'Y.Y': 1, '.YE': 4, 'WEA': 63, 'EMU': 6, 'OTA': 26, 'L N': 31, 'ENA': 117, 'NA ': 42, 'L L': 22, 'L U': 13, 'CTH': 3, 'KSC': 1, 'S.T': 35, 'DOR': 22, 'RTO': 41, 'RPL': 6, 'LEX': 58, 'XIT': 1, 'RA ': 25, 'LDB': 11, 'WRE': 6, 'BYT': 15, 'LTE': 25, 'ULW': 3, 'LWH': 6, 'G K': 6, ' KE': 41, 'KEP': 20, 'VEB': 10, 'LTY': 24, 'GHO': 15, 'SK ': 16, 'OFO': 16, 'UTF': 7, 'TFL': 5, 'NKI': 20, 'DUS': 8, 'USK': 1, 'SKA': 2, 'KAN': 5, 'NEG': 29, 'EGL': 19, 'LEC': 90, 'UTP': 7, 'TPO': 13, 'CKL': 14, 'KLI': 2, ' AI': 11, 'F N': 44, 'P F': 22, 'OMT': 19, 'MTH': 22, 'BIV': 2, 'IVO': 9, 'OUA': 2, 'UAC': 2, 'HTO': 10, 'NSS': 5, 'ELV': 87, 'LVE': 108, 'FTT': 1, 'INU': 62, 'CH.': 15, 'H.T': 3, 'ADH': 5, 'DHA': 7, 'HSA': 9, 'YER': 11, 'EXA': 86, 'XAM': 7, 'ROG': 19, 'OGN': 12, 'GNO': 6, 'NOS': 7, 'C O': 6, '. M': 56, 'TEI': 1, 'UTS': 32, 'WS.': 8, 'ILY': 86, 'MAJ': 4, 'AJO': 4, 'JOR': 4, 'TYO': 11, 'YOF': 21, 'UTT': 31, 'UTW': 4, 'TWH': 3, 'KST': 3, 'BEC': 76, 'TAY': 16, 'BIL': 30, 'XIB': 1, 'RYH': 4, 'NOU': 70, 'LTH': 31, 'ORB': 11, 'DEP': 50, ' GL': 19, 'GLO': 9, 'LLM': 1, 'ROI': 5, 'OIC': 11, 'C C': 11, 'GE.': 70, 'MEG': 7, 'GIS': 12, 'NOL': 5, 'RTT': 3, 'G N': 23, 'ACA': 4, 'BIR': 9, 'MIG': 106, 'ROL': 15, 'R.I': 5, 'ILU': 4, 'NOO': 9, 'INR': 4, 'NRE': 12, 'OFS': 12, 'FS ': 8, 'TOB': 14, 'OBE': 26, 'IP.': 7, 'ICS': 26, 'CS.': 5, 'YAD': 3, 'F E': 64, 'SCA': 103, 'R V': 28, 'NUP': 3, 'UP.': 10, 'Y.A': 9, '.AN': 19, 'OWD': 13, 'WDS': 1, 'FOO': 106, 'OMR': 11, 'MRA': 10, 'HRU': 6, 'EA.': 11, 'INW': 9, 'LLT': 11, 'BOD': 45, 'ODY': 34, 'DY.': 6, 'E.A': 17, '.AW': 1, ' UT': 11, 'TEE': 44, 'SNO': 22, 'L K': 5, 'SIL': 30, 'EEH': 2, 'EHU': 3, 'EDD': 2, 'DDI': 18, 'OR.': 16, 'UN ': 11, 'ISW': 11, 'EPL': 36, 'L F': 41, 'DE.': 24, 'NEO': 16, 'SIC': 68, 'ICK': 43, 'FOP': 2, 'PHT': 3, 'MIA': 5, 'VIL': 25, 'LAG': 14, 'TSH': 4, 'BUC': 3, 'KLE': 6, 'IMF': 1, 'MFO': 3, 'ETO': 52, 'SOA': 5, 'OAN': 7, 'LUN': 37, 'UNG': 23, 'K M': 16, 'TA.': 10, 'EWO': 13, 'M L': 11, 'NDL': 20, 'WIP': 1, 'IPE': 2, 'AYT': 8, 'ODI': 19, 'DIG': 13, 'GIE': 2, 'LOU': 51, 'A.F': 1, '.FO': 59, 'OTN': 79, 'TNO': 82, 'ESF': 31, 'NON': 21, 'AWL': 1, 'WLI': 1, 'NSO': 38, 'DOE': 16, 'OES': 34, 'USU': 40, 'SUG': 26, 'GGE': 50, 'ESO': 82, 'OLV': 17, 'DUE': 16, 'TOA': 9, 'AMB': 38, 'BIT': 58, 'DSH': 7, 'NFE': 19, 'ACY': 11, 'CY.': 11, ' MR': 4, 'MR.': 4, '. G': 21, 'Y K': 16, 'KNE': 41, 'MEL': 6, 'T.I': 10, 'IIN': 1, 'TSW': 5, 'YLT': 1, 'UM.': 13, 'NEN': 35, 'ISL': 60, 'EUB': 8, 'UBA': 35, 'BA ': 6, 'K W': 38, 'SBE': 11, 'OCH': 16, 'E.B': 8, '.BO': 7, 'IAB': 7, 'BA.': 4, 'LLR': 2, 'LRE': 26, ' CL': 112, 'CLE': 70, 'EFL': 10, 'ASY': 18, 'SY ': 35, 'YLN': 1, 'LNO': 2, 'OL ': 10, 'NVI': 15, 'VIR': 22, 'TUE': 5, 'ONA': 95, 'GEX': 1, 'POR': 161, 'IC.': 8, 'OOU': 1, 'KEE': 27, 'EP ': 29, 'P A': 44, ' SQ': 26, 'ADR': 33, 'DRO': 44, 'PS.': 29, 'SEQ': 10, 'CEO': 14, 'FTY': 22, 'NEL': 11, 'EL ': 61, 'NLA': 18, 'YSS': 2, 'SST': 23, 'RM.': 9, 'OYE': 44, 'ANU': 46, 'NUN': 11, 'MUL': 26, 'OKU': 1, 'KUP': 1, 'M.T': 8, 'P I': 32, 'TSP': 5, 'RBO': 21, 'ULF': 5, 'LFO': 3, 'FOF': 2, 'LO.': 1, 'O. ': 18, 'STT': 20, 'K F': 24, ' OW': 98, 'DSI': 9, 'OTW': 5, 'HST': 3, 'PTA': 13, '. E': 40, 'UTN': 4, 'TNU': 3, 'WN.': 24, 'HTY': 8, 'CKO': 8, 'KON': 9, 'YOA': 1, 'RSW': 9, 'RIR': 2, 'EEB': 5, 'NKE': 10, 'KER': 9, 'WIC': 9, 'NY.': 4, 'DSE': 5, 'D V': 29, 'IKE': 61, 'KEL': 16, 'IRM': 24, 'VE.': 28, 'LTW': 1, 'G C': 34, 'EKW': 2, 'KWA': 4, 'OSP': 13, 'ECU': 29, 'TAB': 34, 'LEP': 16, 'FET': 24, 'YBI': 22, 'BIA': 16, 'ANA': 59, 'NAD': 4, 'DMI': 25, 'MIR': 17, 'IRA': 31, 'UPR': 10, 'EGG': 12, 'STP': 13, 'ISD': 20, 'SDE': 17, 'C I': 4, 'OCL': 30, 'PSO': 5, 'LF.': 24, 'ALE': 118, '  O': 13, 'NEY': 14, 'OCU': 3, 'BUY': 5, 'UY.': 1, 'ISV': 3, 'SVI': 2, 'C S': 13, 'ERF': 55, 'RFU': 24, 'FRA': 16, 'I W': 27, 'L G': 29, 'AYI': 24, 'U F': 7, 'GOI': 14, 'G.T': 6, 'DSO': 17, 'DS.': 35, 'NYT': 12, 'NGM': 8, 'GMO': 3, 'ANH': 9, 'NHI': 7, 'AGU': 25, 'ICY': 19, 'CY ': 29, 'RGO': 12, 'GOT': 68, 'CCA': 15, 'UL.': 18, 'EER': 35, 'RHE': 9, 'C G': 9, 'PST': 2, 'EKI': 12, 'ONH': 4, 'NWH': 23, 'AGI': 127, 'IGE': 36, 'SCY': 13, 'CYL': 4, 'YLL': 6, 'LOY': 29, 'DAM': 24, 'LSW': 5, 'MEE': 26, 'BOL': 18, 'UNS': 39, 'RNO': 13, 'DSA': 9, 'ET.': 7, 'EWE': 29, 'SHM': 12, 'HME': 16, 'ISM': 26, 'RVI': 76, 'NGW': 8, 'GWI': 3, 'EYS': 9, 'UMI': 16, 'SIV': 25, 'RCL': 3, 'RNS': 5, 'CLO': 55, 'RIZ': 4, 'FIT': 24, 'P.T': 3, 'LLD': 2, 'LDO': 8, 'EMN': 14, 'OS ': 18, 'GAC': 12, 'SM.': 5, '.AG': 5, 'AGM': 2, 'GME': 9, 'RIF': 27, 'TOK': 7, 'BSO': 13, 'YDE': 8, 'CS ': 17, 'IRD': 25, 'XAC': 19, 'RUE': 33, 'UEL': 9, 'LSU': 3, 'DFO': 14, 'HEO': 15, 'EOR': 7, 'LFM': 1, 'FMO': 1, 'SOB': 4, 'ECH': 13, 'UNK': 6, 'EDM': 12, 'INJ': 8, 'NJU': 8, 'JUR': 7, 'OO ': 46, 'VEA': 5, 'TEG': 12, 'GIC': 4, 'C V': 3, 'ALU': 21, 'LUE': 12, 'HWA': 19, 'NTC': 5, 'TCA': 6, 'RIP': 17, 'IPT': 13, 'VIT': 20, 'PET': 20, 'M D': 16, 'M.F': 3, 'LPH': 11, 'HI ': 13, 'SSC': 3, 'MPH': 29, 'CTY': 2, 'IL.': 9, 'UEO': 1, ' HY': 4, 'HYD': 1, 'YDN': 2, 'DNA': 2, 'NEX': 62, 'EXT': 105, 'XT ': 45, 'RO.': 4, 'ARV': 11, 'SLE': 13, 'DDR': 12, 'OOR': 8, 'GGR': 11, 'A Y': 6, 'ETM': 1, 'TMO': 6, 'DSC': 2, 'OAT': 10, '.IV': 4, 'IVT': 3, 'VTH': 5, 'FTA': 3, 'VAD': 45, 'PTW': 1, 'TSE': 38, 'TIF': 40, 'IFY': 10, 'FY ': 10, 'DAL': 10, 'TSI': 21, 'NWA': 7, 'NOQ': 1, 'OQU': 3, 'TOS': 12, 'OSA': 10, 'LIF': 38, 'IFE': 49, 'FE ': 32, 'MEW': 21, 'X D': 4, 'APL': 3, 'ILD': 25, 'LDR': 16, 'APA': 13, 'LLN': 5, 'LNE': 5, ' OL': 34, 'IPB': 1, 'PBO': 1, 'DEI': 9, 'TRZ': 1, 'RZE': 2, 'ZEN': 32, 'GOL': 18, 'CHH': 12, 'HHA': 4, 'IE ': 6, 'F K': 8, 'NSH': 12, 'LAM': 41, 'URH': 8, 'RHO': 19, 'HOO': 13, 'NIE': 31, 'SE.': 52, ' EM': 124, 'T.Y': 1, 'SCI': 57, 'CIE': 37, 'ULO': 8, 'W M': 20, 'HS ': 40, 'ACL': 10, 'DVI': 18, 'IRW': 3, 'RWO': 4, 'ESM': 11, 'ASM': 18, 'SME': 16, 'W B': 18, 'THY': 27, 'HY ': 21, 'KNI': 1, 'EEX': 10, 'G U': 23, 'RID': 23, 'IDL': 9, 'NGN': 4, 'OTR': 4, 'LFW': 3, 'FWH': 2, 'DEB': 5, 'ISF': 23, 'SFR': 8, 'IDS': 9, 'DST': 13, 'SCU': 18, 'USS': 13, 'DWI': 27, 'TAD': 11, 'TID': 17, 'SEB': 5, 'EBU': 8, 'FTW': 3, 'RT.': 14, '.AS': 6, 'BYG': 1, 'YGO': 2, 'NPH': 1, 'PHY': 5, 'HY.': 3, 'EWC': 7, 'WCO': 7, 'ILH': 1, 'LHA': 4, 'ID.': 5, 'RYC': 5, 'NDP': 5, 'DPE': 4, 'RGU': 7, 'GUM': 5, 'NKO': 2, 'KOF': 2, 'MPR': 34, 'TIQ': 4, 'IQU': 4, 'UET': 3, 'BUS': 28, 'EYH': 11, 'P U': 7, 'RGI': 13, 'G H': 87, 'EIM': 11, 'RIL': 25, 'GAM': 6, 'STU': 32, 'UDI': 29, 'LDN': 10, 'DNE': 6, 'GAB': 2, 'P B': 12, 'ALD': 9, 'FFR': 2, 'NTB': 3, 'TBU': 4, 'TTO': 14, 'ISK': 9, 'K E': 9, 'RYT': 18, 'NEB': 2, 'RCY': 8, 'CYO': 2, 'OYA': 21, 'YAL': 20, 'EBY': 4, '.AD': 1, 'ENR': 7, 'NRA': 6, 'DEV': 22, 'PSF': 1, 'ASG': 4, 'SGO': 2, 'LDW': 3, 'OOS': 9, 'S.P': 1, '.PL': 2, 'OUW': 4, 'UWI': 4, 'GOD': 11, 'USW': 5, 'L Y': 5, 'U D': 12, 'OTO': 5, 'T.B': 4, '.BU': 20, 'ISO': 68, 'DOI': 9, 'LLW': 4, 'LWI': 2, 'S Y': 23, 'U T': 2, 'ZED': 13, 'R Y': 25, 'XEC': 7, 'GEC': 2, 'UMS': 18, 'MST': 18, 'CLA': 65, 'AIM': 25, 'CET': 12, 'OYI': 7, 'W.T': 2, 'USP': 18, 'MMU': 6, 'MUN': 6, 'KSH': 1, 'W L': 13, 'I.E': 5, '.E.': 27, 'XTE': 22, 'TOU': 15, 'OUC': 7, 'HAB': 35, ' PS': 2, 'PSY': 2, 'SYT': 2, 'YTT': 2, 'LEI': 6, 'EIA': 6, 'LAU': 38, 'SIM': 22, 'IMI': 57, 'T.W': 3, 'NAN': 50, 'GOR': 7, 'RSY': 2, 'SY.': 2, 'ADB': 16, 'T.H': 3, '.HE': 30, 'RTL': 10, 'THH': 6, 'HHI': 8, 'WLY': 15, 'INM': 6, 'NMA': 13, 'RKN': 6, 'DO ': 67, 'SO.': 4, 'GWH': 2, 'LK ': 5, ' EY': 14, 'EYE': 23, 'YES': 9, 'CTL': 20, 'EEW': 1, 'W G': 11, '.AR': 1, 'M R': 14, 'E.O': 5, 'DDO': 3, 'BTL': 9, 'ATM': 11, 'UBS': 11, 'BST': 17, 'DEU': 3, 'STB': 4, 'TBE': 12, 'OMG': 1, 'MGR': 2, 'ICC': 1, 'HAY': 2, 'AYL': 1, 'WCI': 2, 'TIZ': 29, 'SOJ': 2, 'OJO': 3, 'JOU': 4, 'I S': 9, 'X C': 4, 'S.S': 8, '.SC': 5, 'FTN': 2, 'TNE': 12, 'RDL': 23, 'OWI': 45, 'WON': 31, 'ACO': 10, 'UNM': 10, 'NAG': 21, 'EAB': 11, 'RYL': 4, 'YLI': 6, 'XIG': 2, 'BOY': 2, 'OY.': 3, 'CKT': 3, 'KTH': 5, 'S J': 11, 'ELU': 4, 'FOE': 12, 'OE.': 5, 'CKE': 65, 'MEI': 5, 'EHO': 12, 'ROE': 3, 'AUX': 9, 'UXI': 9, 'ODD': 6, 'DDE': 33, 'CRY': 7, 'VOI': 10, 'H R': 35, 'RFR': 3, 'YE ': 7, 'YMA': 8, 'SSL': 12, 'NAX': 3, 'AXO': 1, 'XOS': 1, 'OS.': 3, 'BYC': 3, 'NCT': 18, 'AYB': 6, 'YBE': 8, 'RNC': 1, 'A.T': 6, 'UBJ': 32, 'CTS': 29, 'F X': 1, 'ASW': 8, 'GAL': 27, 'EOS': 1, 'CA.': 5, 'ESW': 20, 'A E': 2, 'DOM': 57, 'OMH': 3, 'MHA': 1, 'AGO': 26, 'EEA': 8, 'WSP': 2, 'MUT': 10, 'PEE': 10, 'COG': 13, 'PUN': 24, 'ULI': 14, 'S.H': 9, 'I C': 5, 'LDM': 3, 'PRU': 19, 'RUD': 17, ' OM': 9, 'WRO': 9, 'XPL': 16, 'LOI': 6, 'THP': 4, 'HPL': 1, 'ASU': 33, 'OMF': 4, 'MFI': 2, 'HOH': 4, 'XCU': 1, 'O X': 1, 'BLA': 15, 'NAB': 30, 'EWW': 5, 'WWE': 2, 'T J': 7, ' JA': 8, 'JAV': 5, 'ANB': 6, 'NBO': 4, 'OSL': 1, 'E.H': 9, '.HI': 9, 'RNA': 28, 'LYG': 2, 'YGD': 1, 'IDO': 4, 'R.S': 1, '.SH': 2, 'NKN': 3, 'BYO': 2, 'YOT': 2, 'NDH': 12, 'DHE': 10, 'SUI': 29, 'OFH': 20, 'FHE': 2, 'WD ': 5, 'EDH': 12, 'PE.': 19, 'SVE': 3, 'DOS': 3, 'U S': 9, 'JUS': 22, 'P.H': 1, 'AG.': 1, 'UNA': 36, 'URV': 19, 'VOR': 7, 'KWR': 1, 'H G': 21, 'WIM': 8, 'PSL': 1, 'SWO': 29, 'D.F': 9, 'LEU': 7, 'OA ': 2, ' AJ': 1, 'JAX': 1, 'AX ': 11, 'X S': 3, 'S.V': 2, '.VT': 2, 'EAF': 7, 'THD': 9, 'HDR': 8, 'Y.T': 18, 'LDH': 7, 'DHI': 18, 'ISU': 4, 'RDO': 23, 'G Y': 19, 'R Q': 7, 'EDL': 25, '  U': 3, 'MN ': 4, 'CEB': 10, 'EYC': 5, 'LFI': 7, 'FIS': 3, 'SHN': 2, 'HNE': 2, 'MEF': 4, 'YHI': 3, 'GEV': 2, 'RCA': 7, 'CAD': 7, 'LLP': 4, 'LPR': 6, 'HPE': 1, 'D Y': 18, 'LPL': 7, 'LYS': 7, 'YSU': 6, 'SUD': 13, 'UDD': 13, 'OTS': 22, 'POP': 23, 'OPU': 25, 'IAE': 1, 'AEA': 1, 'NTW': 4, 'ISJ': 1, 'SJO': 1, 'ISN': 5, 'T.M': 1, 'PUS': 17, 'W U': 5, 'OFB': 5, 'FBA': 5, 'ESL': 5, 'R U': 20, 'MBO': 4, 'M M': 18, 'GAR': 41, 'RWI': 3, 'XPO': 5, 'UAT': 24, 'PPA': 8, 'TYW': 2, 'NDU': 18, 'RDP': 3, 'DPR': 6, 'ARP': 7, 'RP ': 2, 'TIU': 12, 'EAU': 1, 'UTY': 9, 'TYA': 4, 'GIL': 7, 'RYA': 12, 'YAS': 7, 'EYR': 3, 'ZE.': 1, 'HEU': 6, 'FAS': 10, 'HIO': 8, 'R.E': 2, '.EN': 1, 'WAN': 26, 'CIP': 64, 'IPL': 14, 'FFO': 22, 'ARO': 17, 'GWA': 3, 'USM': 2, 'SMY': 1, 'MYT': 6, 'YWI': 3, 'HEV': 11, 'YA ': 10, 'L V': 5, 'ERB': 11, 'RGA': 9, 'GAP': 5, 'CHW': 4, 'HIF': 2, 'N.H': 6, 'URK': 1, 'RKO': 3, 'KOM': 1, 'C A': 25, 'WEH': 5, 'LDF': 3, 'DFA': 7, 'Y.F': 9, 'DSU': 7, 'OFA': 16, 'FAN': 50, 'R K': 19, 'ANE': 44, 'XIS': 25, ' UL': 7, 'K R': 7, 'LDA': 3, 'DAF': 2, 'LYO': 6, 'FLU': 11, 'RKI': 4, 'OID': 9, 'SDI': 9, 'ARH': 1, 'MP.': 24, 'HTF': 8, 'TFA': 6, 'XAN': 57, 'RO ': 25, 'OBT': 13, 'BTA': 13, 'GNS': 22, 'ATN': 3, 'U P': 11, 'FEF': 2, 'LOV': 3, 'N.W': 8, 'NMI': 6, 'LDT': 9, 'DTA': 3, 'NFA': 50, 'PTL': 8, 'HOK': 2, '.A ': 7, 'UPY': 5, 'AMS': 7, 'CHD': 2, 'HDE': 2, 'DEG': 7, 'OOL': 9, 'OLA': 13, 'XTR': 28, 'OFP': 8, 'FPO': 3, 'SOD': 3, 'DAG': 5, 'FPL': 1, 'SIZ': 4, 'NDG': 2, 'DGR': 3, 'UNF': 14, 'MOM': 15, 'RBI': 10, 'COD': 4, 'FSP': 1, 'RYD': 4, 'UBO': 4, 'XED': 15, 'CIO': 20, 'HUG': 17, 'UGE': 28, 'I G': 4, 'EKF': 2, 'KFO': 3, 'PEB': 2, 'EBB': 2, 'BBL': 2, 'OTB': 2, 'TBO': 1, 'BOX': 1, 'OXE': 1, 'SHU': 9, 'LLH': 2, 'LHE': 3, 'DAW': 8, 'W.A': 1, '.BY': 2, 'WNI': 7, 'HIT': 16, 'REX': 2, 'GGI': 4, 'BYS': 7, 'ADC': 4, 'DCO': 9, 'BRU': 9, 'CKA': 4, 'KAL': 2, 'NYL': 1, 'HTL': 5, 'EAA': 2, 'AA ': 2, 'USY': 14, 'TOM': 15, '. U': 15, 'NOE': 1, 'OEN': 2, 'ENF': 9, 'OMS': 7, 'MSP': 1, 'MOC': 6, 'CYT': 8, 'YTO': 10, 'EKA': 1, 'KAR': 1, 'RAY': 15, 'EHE': 19, 'ELC': 7, 'LCO': 28, '.TO': 3, 'POU': 6, 'LEY': 9, 'INB': 3, 'RLI': 16, 'TSU': 7, 'DBO': 2, 'TSB': 3, 'MAM': 9, 'YTR': 5, 'DYG': 2, 'YGU': 2, 'DIM': 5, 'WNW': 3, 'WNA': 2, 'AEI': 1, 'IMN': 1, 'MNE': 3, 'NFU': 15, 'DYO': 3, 'YSD': 1, 'KSW': 5, 'M X': 1, 'IEU': 14, 'EUT': 33, 'CEF': 6, 'O Z': 2, 'ZEA': 2, 'LAX': 4, 'TSF': 4, 'PHL': 2, 'HLI': 3, 'LIU': 39, 'X H': 7, 'SOT': 2, 'TFR': 1, 'R.T': 8, 'SAT': 39, 'ACQ': 13, 'CQU': 13, 'UAI': 7, 'LOF': 4, 'LT.': 3, 'EGO': 16, 'CYM': 4, 'YST': 14, 'XAG': 8, 'SDO': 5, 'DAB': 37, 'HWH': 8, 'EKL': 1, 'KLO': 1, 'S .': 5, ' .A': 1, '.AM': 3, 'TOD': 13, 'UNH': 10, 'PYS': 1, 'YL.': 4, 'L.T': 7, '.TW': 2, 'M E': 15, 'Y.M': 1, '.MU': 1, 'TET': 3, 'I M': 9, 'OOM': 7, 'OM.': 9, 'IPO': 2, 'POD': 2, 'EGS': 1, 'ONZ': 1, 'NZE': 1, 'BOS': 1, 'SPH': 3, 'C W': 42, 'BYE': 2, 'YEN': 3, 'NUT': 3, 'LYE': 11, 'YEX': 3, 'UTB': 3, 'TBY': 4, 'TUT': 13, 'UMU': 7, 'GIB': 8, 'ITC': 10, 'TCO': 17, 'SYS': 6, 'ICF': 1, 'CFA': 1, 'SIF': 2, 'FAU': 3, 'YAT': 2, 'VIG': 11, 'IGO': 14, 'ORO': 23, 'IDG': 6, 'NTD': 3, 'TDE': 1, 'RWE': 4, 'GOF': 3, 'ENV': 33, 'NVO': 36, 'VOY': 36, 'OYS': 33, 'EOT': 6, 'TYC': 4, 'YCH': 8, 'HID': 7, 'IBI': 6, 'RDA': 9, 'NLE': 9, 'DUT': 10, 'LPI': 5, 'N Y': 19, 'YOK': 4, 'ENL': 14, 'POK': 6, 'BAS': 24, 'SSY': 9, 'MYL': 4, 'YLE': 8, 'SAP': 19, 'UPA': 3, 'PA ': 1, 'AWE': 1, 'WET': 1, 'MYC': 5, 'YCA': 6, 'DTI': 5, 'DSW': 2, 'E J': 13, 'W I': 22, 'IPA': 9, 'K.A': 1, 'YGI': 2, 'NEU': 6, 'COI': 6, 'ARU': 14, 'RUM': 8, 'UMO': 4, 'LEH': 6, 'DSS': 1, 'TAF': 4, 'RFE': 10, 'HTC': 1, 'TCU': 1, 'WAV': 4, 'C.F': 2, '.FA': 2, 'APS': 10, 'SFA': 11, 'FMY': 2, 'KAD': 2, 'GOE': 8, 'GOU': 7, 'LLB': 2, 'LBA': 3, 'IGA': 6, 'GAD': 3, 'FA ': 8, 'ODL': 2, 'GH.': 6, 'MYA': 4, 'D.P': 4, '.PE': 5, 'LYR': 7, 'CUE': 3, 'UT.': 11, 'CHM': 7, 'HMO': 2, 'T.F': 2, 'ICR': 3, 'HTB': 5, 'DIL': 7, 'ALC': 14, 'EID': 3, 'DIP': 1, 'N.F': 8, 'EEV': 4, 'HWI': 1, 'UNR': 7, 'NRO': 4, 'DNO': 24, 'ABR': 7, 'IIG': 2, 'GEI': 4, 'GEL': 36, 'EWP': 2, 'WPR': 2, 'SAD': 25, 'ADO': 33, 'BEN': 8, 'UBD': 8, 'BDU': 8, 'DUI': 4, 'K Y': 3, 'OU.': 2, 'U. ': 2, '. J': 5, 'H U': 9, 'M.C': 2, 'D.G': 2, '.GE': 3, 'VEI': 8, 'WOT': 4, 'URW': 2, 'EFC': 2, 'D.S': 3, '.SY': 2, 'SYA': 1, 'YAG': 6, 'GRU': 4, 'SEK': 2, 'EKN': 3, 'S.G': 1, 'VET': 32, 'LSA': 4, 'AYC': 2, 'U L': 2, 'ITB': 4, ' YI': 9, 'YIE': 9, 'E.G': 1, 'NTF': 2, '. Q': 2, 'FPR': 2, ' JE': 18, 'JEA': 12, 'HHE': 8, 'BTE': 6, 'MEQ': 1, 'N Q': 1, 'PSN': 1, 'LYL': 2, 'CIV': 12, 'FCA': 7, 'YEM': 2, 'YSK': 1, 'RYJ': 1, 'YJU': 1, 'XPA': 3, 'TCI': 2, 'UPM': 1, 'PMO': 1, 'PYT': 2, 'NDK': 2, 'DKI': 2, 'OLK': 3, 'NK.': 8, 'NGC': 7, 'GCO': 4, 'BT.': 4, 'THC': 7, 'HCO': 2, 'RYE': 4, 'NTT': 9, 'LFA': 3, 'N.O': 2, 'ILC': 30, 'LCA': 15, 'FAF': 1, 'CAA': 1, 'AAN': 7, 'SBY': 4, 'RLA': 6, 'OMU': 3, 'SFE': 8, 'SOI': 3, 'DRU': 36, 'RUB': 28, 'BEP': 1, 'R.H': 4, 'INO': 16, 'RA.': 6, 'MYO': 3, 'LPE': 7, 'OPM': 4, 'NEF': 4, 'EMW': 2, 'MWA': 3, 'NCY': 11, 'FFT': 3, 'SOG': 1, 'CKW': 4, 'KWO': 1, 'NRI': 4, 'GST': 2, 'NUS': 71, 'SOW': 5, '.SO': 6, 'NEH': 2, 'YCE': 1, 'OSU': 2, 'GEH': 1, 'OFX': 1, 'FXE': 1, 'YBA': 2, 'TAM': 6, 'SFY': 4, 'ITN': 6, 'JUV': 2, 'UVE': 5, 'DLA': 2, 'UMP': 20, 'POO': 5, 'BAF': 1, 'FFL': 1, ' OE': 1, 'OER': 1, 'OGG': 1, 'WRA': 3, 'C M': 4, 'SRA': 2, 'MSI': 4, 'NAV': 7, 'DEO': 5, 'E.C': 1, '.CE': 1, 'TEF': 3, ' P.': 5, '. .': 7, ' .I': 2, 'CO ': 17, 'C B': 6, 'OD.': 11, 'EKH': 2, 'KHA': 1, 'XPI': 3, 'MBY': 3, 'RNH': 2, 'NHO': 6, 'FYI': 4, 'FCH': 1, 'ENM': 9, 'APR': 9, 'TEX': 11, 'O Y': 21, 'PAL': 11, 'LTR': 1, 'Y Q': 6, 'DEH': 2, 'NLU': 4, 'CKY': 6, 'KY ': 6, 'MSC': 2, 'TTY': 3, 'N.S': 2, '.FI': 5, 'LYV': 1, 'YVE': 1, 'ALB': 5, 'LBU': 1, 'VAG': 16, ' AH': 3, 'AHE': 2, 'N.E': 2, '.EV': 3, 'DOO': 4, 'MYR': 4, 'MSW': 4, 'CKI': 8, 'DAP': 6, 'SOC': 19, 'T Q': 8, 'ELW': 1, 'BOV': 5, 'MSY': 1, 'TPR': 5, 'DUN': 3, 'KEA': 4, 'ROX': 1, 'OXI': 1, 'XIM': 3, 'FME': 2, 'MIX': 8, 'XTU': 2, 'DYT': 3, 'PAY': 25, 'AYM': 5, 'LIL': 2, 'LYB': 19, 'YBU': 4, 'BUM': 3, 'EIS': 6, 'NYD': 2, 'LAD': 16, 'TAP': 3, 'APU': 10, 'GEW': 4, 'AKN': 9, 'CAY': 4, 'RPU': 2, 'RYW': 10, 'RGY': 6, 'GY.': 2, 'GY ': 7, 'TUL': 12, 'LWO': 3, 'SH.': 7, 'H.A': 2, 'CTT': 2, 'ONB': 5, 'AYA': 5, 'NSM': 10, 'IRN': 3, 'RNU': 3, 'ETS': 16, 'DCH': 4, 'KET': 8, 'ETP': 1, 'TPL': 3, 'SMO': 11, 'OAG': 2, 'ASC': 16, 'ULP': 2, 'LPA': 4, 'PAB': 5, 'RDY': 6, 'RSF': 3, 'IXE': 8, 'WNF': 1, 'FUT': 9, 'LFH': 2, 'FHA': 8, 'TEV': 11, 'OWG': 2, 'WGR': 1, 'DUL': 3, 'ULG': 4, 'LGE': 3, 'IFC': 1, 'MNS': 1, 'STM': 6, 'OWB': 2, 'WBA': 1, 'CHT': 10, 'SEX': 9, 'TFI': 5, 'WOL': 5, 'GLA': 12, 'NDB': 5, 'DBR': 2, 'OVA': 4, 'VAB': 1, 'STD': 1, 'TDA': 5, 'SEF': 17, 'N.R': 1, '.RE': 1, 'HAC': 2, 'IDB': 1, 'REJ': 7, 'EJE': 5, 'KSE': 4, 'EXH': 12, 'XHA': 12, 'OFW': 9, 'FWA': 9, 'DOB': 3, 'FSY': 1, 'NSR': 3, 'IOC': 13, 'YSH': 5, 'UNB': 7, 'NBU': 5, 'ATD': 2, 'D.A': 7, 'RSD': 2, 'NNU': 20, 'EKC': 4, 'KCH': 1, 'S.B': 3, 'SBA': 10, 'M.B': 2, 'LID': 9, 'PTS': 5, 'FTB': 1, 'ATY': 10, 'D Z': 1, 'L.I': 2, 'L.A': 3, 'DFE': 1, 'OFI': 13, 'NOB': 18, 'OBL': 16, 'OLY': 19, 'LYM': 2, 'YMP': 3, 'MPI': 60, 'MSS': 1, 'GOS': 1, 'ILF': 5, 'LFU': 7, 'YFO': 15, 'OUP': 5, 'IPI': 44, 'Y.W': 2, 'DEQ': 2, 'WNC': 1, 'PTH': 4, 'DEX': 5, 'XIP': 4, 'PPU': 10, 'EDN': 8, 'DOP': 12, 'OPT': 11, 'MBS': 5, 'BS ': 3, 'SSN': 5, 'RK.': 15, 'RKM': 1, 'KME': 3, 'LLV': 2, 'LVA': 4, 'KCI': 3, 'HNU': 2, 'YHU': 1, 'RPE': 12, 'YSO': 5, 'EJO': 2, 'TLO': 4, 'EUN': 8, 'CO.': 2, 'SBR': 5, 'S Q': 9, 'MOB': 4, 'OB ': 1, 'B W': 2, 'LLK': 4, 'LKN': 4, 'IPW': 1, 'PWR': 1, 'EDU': 22, 'CIF': 8, 'BYH': 6, 'LDC': 2, 'UMW': 2, 'AFL': 1, 'FSO': 4, 'ABU': 3, 'BUN': 7, 'INQ': 5, 'IRY': 1, 'N.A': 7, 'VAC': 9, 'CUA': 6, 'DYI': 2, 'MEH': 4, 'NDD': 5, 'R.B': 2, 'LYH': 4, 'REO': 8, 'UPU': 4, 'MNA': 4, 'RAF': 4, 'TYM': 1, 'NUV': 8, 'UVR': 8, 'VRE': 6, ' OS': 6, 'FCI': 2, 'STN': 3, 'LYC': 11, 'CKN': 5, 'VOC': 3, 'OCD': 1, 'CDU': 1, 'EOC': 1, 'ICL': 6, 'YSY': 1, ' .F': 7, 'ULU': 21, 'EWR': 3, 'RTW': 3, 'MAE': 1, 'AEU': 2, 'H.I': 3, 'IID': 1, 'E.D': 2, '.DI': 3, 'ICP': 1, 'CPO': 1, 'L Q': 2, 'AP.': 1, 'P.A': 1, 'RLO': 2, 'GCH': 2, 'BJU': 5, 'JUG': 6, 'UGA': 8, 'NOD': 3, 'E.P': 3, 'SYE': 1, 'OCO': 9, 'OHI': 5, 'ALG': 2, 'LGO': 1, 'ARW': 5, 'SGI': 3, 'ZES': 1, 'XCI': 5, 'F U': 17, 'FDI': 2, 'LMA': 1, 'DA ': 13, 'A.D': 18, '.D.': 19, 'N .': 13, 'T.D': 1, 'NDN': 5, 'TYB': 3, 'C R': 2, 'UTL': 5, 'LEL': 3, 'GSO': 1, 'HOB': 1, 'X T': 10, 'CHF': 5, 'HFU': 4, 'ULN': 1, 'IDH': 1, 'IDN': 7, 'SMI': 7, 'LUA': 7, 'UAB': 7, 'WST': 2, 'ICG': 1, 'CGO': 1, 'S.C': 2, '.CA': 2, 'R .': 6, 'STC': 5, 'EF.': 13, 'NOV': 4, 'GN.': 9, 'DWH': 6, 'XEM': 3, 'DBU': 6, 'LDL': 2, 'NFR': 9, 'DMA': 12, 'LCU': 7, 'TST': 6, 'YBD': 1, 'BDI': 2, ' TN': 1, 'TNA': 2, 'VA ': 2, 'ENJ': 7, 'NJO': 8, 'AKT': 2, 'C D': 6, 'ASQ': 3, 'UIC': 11, 'CKM': 1, 'KMO': 1, '.AF': 6, 'NYA': 4, 'N.D': 3, 'SKS': 1, 'HAZ': 1, 'AZA': 2, 'ZAR': 1, 'DCE': 3, 'OFN': 3, 'FNE': 1, 'JER': 1, 'ERU': 6, 'AIA': 1, 'IAH': 2, 'AH ': 2, 'YRI': 35, 'COT': 6, 'LOD': 2, 'ODG': 1, 'CUC': 1, 'UCU': 12, 'RN.': 4, 'MPW': 2, 'PWE': 1, 'BUB': 1, 'JUD': 10, 'UDG': 11, 'WNT': 3, 'MOF': 1, 'SHR': 7, 'UEE': 3, 'OGY': 1, 'ENP': 6, 'NPE': 4, 'AYO': 2, 'IMU': 4, 'LTA': 7, 'F Z': 4, 'ADQ': 2, 'DQU': 2, 'W W': 30, 'BEO': 2, 'COF': 1, 'USF': 2, 'NLO': 4, 'YHE': 6, 'AWI': 3, 'S.W': 5, '.WA': 1, 'R.W': 2, '.WE': 6, 'E .': 1, 'ATW': 8, 'RYO': 6, 'OTC': 5, 'NNY': 2, 'D.B': 4, 'ENY': 3, 'ADF': 2, 'EBL': 4, 'XCL': 2, ' ID': 26, 'JOY': 5, 'OYM': 4, 'RDU': 4, 'LAP': 1, 'EDP': 5, 'DPO': 2, 'VOK': 9, 'OKI': 5, 'RAA': 1, 'EUC': 4, 'UCA': 4, 'FHI': 12, 'ONR': 1, 'WWI': 2, 'TUO': 3, 'IRH': 4, 'HUT': 7, 'NKL': 1, 'S.U': 1, '.UN': 2, 'YIT': 2, 'ONP': 4, 'CCL': 1, 'NKF': 2, 'KFU': 1, 'IOL': 7, 'YSA': 6, 'D.C': 5, 'UNU': 5, 'YFA': 2, 'M U': 3, 'D .': 3, 'UY ': 3, 'UNP': 7, ' DL': 4, 'NUC': 3, 'UCL': 1, 'GOB': 1, 'E.W': 4, 'INY': 5, 'X O': 2, 'U Y': 1, 'FTI': 1, 'EY.': 5, 'MIU': 4, 'M K': 1, 'ADN': 2, 'LOA': 7, 'RSL': 2, 'BS.': 2, 'IZI': 2, 'RB ': 2, 'HMI': 2, 'SYM': 4, 'YMB': 3, 'RNB': 1, 'NBA': 3, 'AWH': 6, 'ODA': 8, 'XHO': 1, '. R': 22, 'OWH': 6, 'GDI': 4, 'SM ': 5, 'P N': 3, '.BE': 1, 'PIS': 3, 'WEI': 8, 'NGB': 7, 'GBE': 2, 'PIO': 52, 'EE.': 6, 'PTM': 1, 'RBE': 13, '.IL': 7, 'DCA': 7, 'FTO': 5, 'YCU': 2, 'NI ': 13, 'FIX': 3, 'OVO': 6, 'YOD': 1, 'DD ': 3, 'EWD': 1, 'WDL': 1, 'YRR': 4, 'RRH': 7, 'RHU': 6, 'IRU': 4, 'GEO': 7, 'KSS': 2, 'SSH': 8, 'LFD': 1, 'FDE': 2, 'SOH': 1, 'OHO': 3, 'D.H': 4, '.HO': 2, 'K.F': 1, 'ATK': 2, 'TKN': 1, 'I.O': 2, 'EOG': 2, ' E.': 1, 'FCL': 1, 'LYP': 5, 'YPU': 4, 'MUR': 11, 'HYP': 2, 'YPS': 1, 'PSA': 3, 'CI.': 1, 'I.B': 1, 'KI.': 1, 'XPU': 1, 'MA.': 3, 'TAX': 10, 'DTR': 3, 'URB': 9, 'CYP': 3, 'YPR': 6, 'PT.': 8, 'WOG': 1, 'WNP': 1, 'NPU': 3, 'AMU': 4, 'SKW': 1, 'KWH': 3, 'DMU': 1, 'IBB': 6, 'BBE': 6, 'PEY': 9, 'Y J': 3, 'JES': 5, 'WHY': 1, 'H J': 2, 'MB.': 1, 'B. ': 2, 'DNT': 1, '.CI': 3, 'YE.': 3, 'DEY': 1, 'SEY': 1, 'LCI': 1, 'IAA': 5, 'O Q': 5, 'QUO': 1, 'UOT': 1, 'T.K': 1, '.KI': 1, 'LAZ': 2, 'AZO': 1, 'ZOM': 1, 'YRO': 2, ' IW': 2, 'IWI': 3, 'Y.I': 3, 'EYF': 3, 'YFE': 2, 'SHP': 1, 'HPU': 1, 'CKG': 1, 'KGR': 1, 'CYC': 1, 'OKF': 1, 'GIG': 3, 'EKR': 1, 'KRA': 1, 'DIB': 6, 'JAS': 2, 'YD.': 1, 'DVO': 2, 'TIP': 3, 'OIM': 1, '.AB': 1, 'A Q': 7, 'LPW': 1, 'PWA': 2, 'P C': 4, '.AL': 9, 'AMW': 1, 'MWH': 3, 'EDC': 8, 'P G': 2, 'PAP': 4, 'HLA': 2, 'HYR': 1, 'YRC': 1, 'OFK': 1, 'FKI': 1, 'ASP': 13, 'AFU': 1, 'AM.': 5, 'DOF': 12, 'RSP': 4, 'GIM': 3, 'F J': 8, 'BYF': 1, 'YFL': 1, 'ASN': 7, 'MUD': 1, 'WOF': 3, 'PAM': 1, 'CKD': 1, 'KDO': 1, 'NIR': 1, 'CKF': 1, 'KFR': 1, 'PIK': 11, 'HAF': 2, 'URL': 3, 'AFI': 4, 'T.A': 3, 'RDC': 1, 'R J': 4, 'Y.E': 2, '.EL': 1, 'USB': 8, 'C J': 2, 'RYR': 2, 'GI ': 1, 'URD': 12, 'NXT': 1, 'XTH': 3, 'RYQ': 1, 'YQU': 1, 'KLY': 7, 'DIU': 19, 'HRY': 1, 'RYG': 1, 'GIA': 3, 'EIL': 6, ' IC': 2, 'CYD': 1, 'DNU': 1, 'SHT': 2, 'A U': 4, 'SWU': 1, 'WUR': 1, 'AGH': 1, 'S.D': 2, '.DA': 1, 'USD': 2, 'LI ': 3, ' TS': 1, 'TSC': 4, 'AI.': 1, 'H.O': 1, 'WOA': 3, 'KFA': 1, '.CH': 1, 'HEK': 3, 'WEP': 5, 'TPE': 4, 'WIE': 2, 'LDY': 2, 'RCR': 2, 'WDE': 6, 'REH': 7, 'XIN': 3, 'DPL': 1, 'TSL': 1, 'NX.': 2, 'X W': 4, 'GAS': 4, 'C H': 6, ' KU': 1, 'KUR': 1, 'AYN': 1, 'YNO': 5, 'G Q': 2, 'GYI': 1, 'S.Y': 1, 'HYO': 2, ' PT': 1, 'PTO': 9, '.PT': 1, 'M.I': 2, 'ESD': 2, 'SDU': 2, 'DYM': 2, 'HPH': 1, 'GAZ': 1, 'ZA ': 3, 'FUP': 1, 'GDO': 13, 'NGP': 5, 'GPL': 2, 'ANR': 7, 'ERZ': 1, 'ZER': 3, 'OUM': 1, 'BAG': 10, 'AGD': 1, 'DAD': 3, 'GAU': 87, 'LA.': 4, 'A.O': 1, 'DFU': 2, 'AUC': 1, ' DW': 6, 'HOI': 8, 'SEG': 1, 'TGU': 15, 'EKD': 1, 'KDI': 1, 'ODT': 1, 'RPP': 1, 'RDB': 1, 'DBL': 1, 'W V': 4, 'TKI': 1, 'H.H': 2, 'LTB': 1, 'M V': 5, 'DCR': 1, 'MYH': 2, 'LFB': 2, 'EKM': 1, 'GGA': 9, 'EYM': 2, 'YMI': 2, 'YAV': 2, 'KHO': 1, 'RSQ': 1, 'RBR': 2, 'ESK': 3, 'KIR': 6, 'WWH': 1, 'KEB': 1, 'NSL': 8, 'COW': 7, 'X I': 3, 'DLO': 7, 'MOK': 1, ' JI': 1, 'JIN': 1, 'T.N': 3, '.NO': 6, 'AZU': 3, 'ZUS': 3, 'DKN': 1, 'IOA': 1, 'OAL': 4, 'IDW': 1, 'BE.': 10, 'VEX': 1, 'G.P': 1, '.PA': 4, 'NXW': 1, 'XWH': 1, 'G.A': 1, 'RPA': 5, 'Y.P': 2, 'FPE': 1, 'HMA': 2, 'DSM': 3, 'OWT': 3, 'WTH': 10, 'H.M': 1, 'GO.': 2, 'IVR': 1, 'VRO': 2, 'SI ': 1, 'HCA': 5, 'NYU': 1, 'YUN': 3, 'IET': 10, 'EX ': 1, 'NA.': 5, 'TTR': 7, 'OSC': 1, 'ADJ': 3, 'DJA': 2, 'JAC': 2, 'OBB': 5, 'NUI': 1, 'DJU': 1, 'GIU': 3, 'DUA': 7, 'PIU': 4, 'AUD': 18, 'EL.': 2, 'AWW': 1, 'RIK': 3, 'N.B': 2, 'UCI': 8, '.AP': 1, 'P.F': 2, 'XEN': 1, 'NOP': 8, 'OKS': 8, ' PP': 1, 'PP.': 1, 'IIF': 2, 'IFO': 3, 'EAI': 1, 'AI ': 1, 'HOF': 3, 'RAO': 5, 'AOR': 5, 'YEF': 1, 'BIU': 25, 'UDA': 3, 'DRY': 2, 'UGL': 1, 'ASL': 5, 'GMA': 2, 'ORV': 1, 'X F': 3, 'GIR': 1, 'BUL': 2, 'KSA': 2, 'L.W': 1, 'VEH': 5, 'T .': 2, 'SOS': 2, 'RYP': 1, 'YPA': 2, 'REY': 1, 'AWT': 2, 'AMM': 2, 'MYI': 1, 'YIF': 1, 'OTF': 2, 'CYF': 1, 'UPL': 1, 'Y.N': 1, 'KCA': 1, 'ATP': 3, 'VRI': 2, 'TTW': 2, 'BEB': 1, 'F.F': 1, 'ECN': 1, 'CNO': 1, 'JUN': 8, 'YEL': 1, 'A.B': 1, 'LSH': 8, 'PH.': 1, 'CSU': 1, 'ENN': 22, 'THB': 5, 'HBE': 1, 'E.X': 1, '.XA': 1, ' GY': 1, 'GYL': 1, 'SP ': 2, ' XA': 4, 'YAB': 1, 'UDL': 2, 'IPU': 2, 'E X': 1, 'HFO': 3, 'NIH': 5, 'IHI': 4, 'E.F': 11, 'DOH': 1, 'VEG': 1, 'ITP': 2, 'TPU': 3, 'HBY': 2, 'OIS': 6, 'BEJ': 1, 'EJU': 4, 'POF': 2, 'VEF': 1, 'OGA': 3, '.I ': 6, 'LUO': 1, 'USC': 6, 'WD.': 1, 'GEU': 1, 'FGO': 3, 'Y.S': 3, '.ST': 3, 'TMI': 2, 'RCT': 1, 'RYX': 2, 'YX ': 2, 'RFI': 4, 'HSP': 1, 'UGM': 1, 'FAG': 1, 'IPN': 1, 'PNO': 1, 'SNI': 1, 'MEU': 2, 'E.N': 1, 'VOW': 1, 'THF': 4, 'HYE': 1, 'NUO': 2, 'IVY': 23, 'H.B': 1, 'COO': 5, 'K.H': 2, 'WAK': 1, 'FTC': 1, 'TOJ': 2, 'LBE': 6, 'GUN': 9, '.HA': 8, 'UEF': 1, 'TYI': 1, 'FAB': 17, 'L.F': 3, 'NOG': 1, 'TEW': 3, 'OCT': 2, ' SN': 6, 'WSH': 1, 'LOM': 1, 'EEF': 3, 'HSB': 1, 'GHL': 10, 'LSD': 1, 'WSO': 1, 'JUP': 1, 'TYN': 3, 'RMC': 1, 'MCL': 1, 'S.F': 9, 'UIV': 2, 'RAK': 1, 'ZEB': 1, 'DOL': 1, 'UPW': 2, 'CIC': 4, 'WO.': 1, 'O.V': 2, 'LYN': 3, 'YNE': 3, 'AUR': 34, 'UBR': 3, 'NI.': 2, 'LDP': 1, '.P.': 1, 'DYA': 1, ' CN': 2, 'CNA': 1, 'NAE': 1, 'PRT': 8, 'IAC': 3, 'ENZ': 2, 'NZA': 2, 'PO ': 3, 'MAH': 4, 'GTO': 10, 'IOH': 1, 'AFO': 1, 'CST': 1, 'PO.': 1, 'DHO': 3, 'YS.': 3, 'FGA': 3, 'EMG': 2, 'DGM': 4, 'T.S': 2, 'RTR': 6, 'EBI': 4, 'P.C': 1, 'BSU': 1, 'RYY': 1, 'YYE': 1, 'MSN': 1, '.SE': 7, 'ANJ': 1, 'PWH': 1, 'NUA': 5, 'OFV': 4, 'FVI': 1, 'RTM': 1, 'MBU': 10, 'GDE': 1, 'OWY': 1, 'WY ': 1, 'SHY': 1, 'YEQ': 2, 'OBI': 5, 'E.M': 1, 'MWE': 2, 'EFS': 7, 'N.V': 2, '.VI': 7, 'I N': 3, 'REZ': 1, 'EZZ': 1, 'ZZO': 1, 'ZO.': 1, ' C.': 2, '.FL': 1, 'ADG': 2, 'DGA': 1, 'BLU': 2, 'ANV': 1, 'KEC': 1, 'DPA': 2, 'PSH': 2, 'GBU': 3, 'NPO': 4, 'NIP': 1, 'MSF': 1, 'EMM': 1, 'NDV': 1, 'IRL': 4, 'THQ': 2, 'HQU': 2, 'UAK': 2, 'STF': 4, 'LGR': 1, 'HEX': 3, 'MB ': 1, 'B T': 1, 'WAD': 1, 'KTO': 4, 'LWE': 1, 'UID': 5, 'XTD': 2, 'R.F': 3, 'NNT': 1, 'A K': 4, 'RML': 4, 'MLY': 3, 'GYO': 2, 'EVU': 1, 'VUL': 2, 'CIU': 12, 'TYP': 4, 'YPE': 4, 'NTV': 2, 'TVI': 2, 'VYS': 2, ' L.': 2, 'EKE': 2, 'AUF': 3, 'UFI': 3, 'IDU': 8, 'VIA': 7, 'NN.': 4, 'HFR': 2, 'FBE': 2, ' ND': 1, 'Y.H': 3, 'FSU': 3, 'SDA': 2, 'HBA': 2, 'SHC': 1, 'HYS': 3, 'NAK': 1, 'FDA': 2, 'DAZ': 1, 'AZZ': 1, 'ZZL': 1, 'ZLI': 1, ' S.': 2, 'S.E': 3, 'LTU': 3, 'UDS': 2, 'OLH': 1, 'TSM': 1, 'USO': 1, 'USR': 4, 'WNO': 2, 'I D': 2, 'NOC': 2, 'WNL': 2, 'U K': 1, 'ITD': 1, 'SCL': 7, 'FUN': 12, 'OAB': 1, 'ANQ': 6, 'IO.': 3, 'AMN': 4, 'MNI': 7, 'NMY': 1, 'PUA': 6, 'UA ': 4, 'UMD': 1, 'MDE': 1, 'CKB': 4, 'KBY': 2, 'UA.': 4, 'SOV': 3, 'SEH': 2, 'NYM': 4, 'YMU': 2, 'SHL': 1, 'P V': 1, 'V.M': 1, 'NAP': 2, 'CNU': 1, 'DSY': 1, 'WOY': 1, 'DO.': 2, 'ALV': 4, 'LVI': 2, 'TTU': 1, 'IAW': 3, 'TCR': 1, 'URU': 11, 'A J': 5, 'DSK': 1, 'SKN': 1, 'DUP': 2, 'OTP': 3, '.EI': 2, 'VIU': 4, ' UM': 1, 'ODW': 1, 'YPO': 1, 'DYC': 1, 'P E': 3, 'OKO': 1, 'KOU': 1, 'ALH': 4, 'CKH': 2, 'KHI': 2, 'SRI': 1, 'HTM': 2, 'MYP': 2, 'TIG': 13, 'PSV': 1, 'HEJ': 3, 'PAE': 1, 'VYG': 1, '.IX': 2, 'IXH': 1, 'OSH': 1, 'NYE': 1, 'DGI': 1, 'SYP': 3, 'YPH': 3, 'HAX': 3, 'AXM': 1, 'XMA': 1, 'I P': 3, ' ZA': 3, 'ZAM': 3, 'A.H': 3, '.IM': 2, 'OJA': 1, 'YSC': 1, 'N.L': 2, '.LL': 1, 'VEC': 1, 'WBR': 1, 'TLL': 1, 'EWT': 5, 'GNT': 1, 'YIM': 4, 'CIB': 1, 'L.N': 1, 'LLC': 1, 'SGE': 1, 'ECD': 1, 'CDO': 1, '. K': 1, 'ILV': 3, 'G.Y': 1, 'SHF': 1, 'HYN': 5, 'YNI': 5, 'EUM': 3, 'MUM': 2, 'OKP': 2, 'KPO': 1, 'UG ': 3, 'Y.X': 1, '.XT': 1, 'GEF': 3, 'XTI': 5, 'R Z': 1, 'AK.': 1, 'X A': 3, 'YDO': 2, 'AX.': 1, 'ETL': 1, 'LYK': 1, 'YKN': 1, 'ASJ': 2, 'SJU': 2, 'IMT': 1, 'D.W': 1, 'WOC': 1, 'ESB': 5, 'BUF': 1, 'NKT': 1, 'M.H': 1, 'RSS': 3, 'SUT': 1, 'UBU': 1, 'B O': 1, 'ONM': 7, 'DUG': 1, 'HA ': 5, 'DBA': 2, '.DU': 2, 'F.I': 1, 'SNA': 4, 'EGN': 1, 'KEH': 1, 'SGU': 1, 'ABB': 2, 'IAM': 2, 'L J': 2, 'NEP': 2, 'C L': 4, '.PU': 1, ' VR': 1, 'IAO': 1, 'AON': 1, 'ALN': 1, 'LNA': 1, 'TLA': 6, 'UNQ': 2, 'UIE': 3, 'RDR': 2, 'C.T': 2, 'RUR': 5, 'AW.': 3, 'MEB': 3, 'EII': 2, 'CTC': 1, 'TCL': 3, 'AWF': 3, 'WFU': 3, 'BII': 4, 'NSG': 1, 'I B': 2, 'IIS': 1, '.ME': 1, 'UTV': 1, 'TVE': 2, 'E.R': 2, '.RO': 2, 'MPC': 1, 'PCO': 1, 'NKW': 1, 'M Y': 3, 'R.O': 1, 'OL.': 1, 'C N': 3, 'DHU': 1, 'IAI': 2, 'TYL': 3, 'BYI': 1, 'URM': 4, 'RMU': 1, 'EMR': 1, 'MRE': 1, 'PTR': 1, 'DOG': 1, 'OGS': 1, 'GEE': 2, 'UNO': 2, 'RLS': 1, 'WGI': 1, 'NTP': 1, 'WOE': 1, 'SRO': 3, 'A.W': 2, 'OMW': 2, 'LUG': 1, 'AYH': 2, 'IIA': 2, 'IAP': 1, 'C..': 1, '.. ': 17, 'ULM': 1, '.AC': 1, 'CEU': 1, 'EOB': 1, 'RYV': 1, 'YVA': 1, 'O .': 1, 'YSP': 1, 'XT.': 1, '.BR': 2, 'TBR': 1, 'ANP': 8, 'OOB': 1, 'NYG': 1, 'YGE': 1, 'VEO': 1, 'DAI': 1, 'RYF': 2, 'CEX': 1, 'FST': 1, 'RMN': 1, 'C F': 7, 'AHO': 1, 'GHW': 2, 'KSB': 1, 'BSC': 3, 'OAM': 1, 'EYT': 2, 'OPC': 1, 'PCI': 1, 'MEV': 1, 'GTI': 1, 'I.T': 2, '.CU': 1, 'USN': 3, 'NUB': 19, 'UBE': 19, 'YMR': 1, 'MRI': 1, 'RSN': 3, 'I F': 2, 'WIV': 3, 'BO ': 5, 'CI ': 1, 'SHW': 1, 'ITZ': 2, 'TZE': 2, 'ULR': 1, 'D Q': 2, 'BOI': 4, 'OIO': 3, 'RIX': 13, 'XCO': 2, 'GBO': 1, 'RAU': 3, 'X E': 3, ' CP': 5, 'CPI': 5, 'MAX': 2, 'AXI': 3, 'LHI': 2, 'C.M': 1, 'RI.': 1, 'TEU': 17, 'P P': 4, 'SKT': 1, 'PHS': 5, 'JEW': 1, 'GCR': 1, ' AQ': 5, 'AQU': 6, 'QU ': 4, 'TI ': 4, 'AIX': 3, 'IRB': 1, 'MHO': 1, 'GIF': 3, 'FTS': 1, 'EVY': 2, 'P.B': 1, 'PSI': 1, 'PH ': 19, 'I R': 4, 'LI.': 2, 'FFF': 1, 'G J': 1, 'OTM': 1, 'R.Y': 1, '.YO': 1, 'NAY': 1, 'NGY': 1, ' .W': 1, 'CHS': 3, 'HSN': 1, 'TEB': 2, 'SYL': 2, 'YIS': 1, 'PSC': 1, 'DII': 1, 'YAF': 2, 'IXL': 1, 'XLE': 1, 'BAI': 1, 'IVB': 1, 'VBE': 1, 'ICW': 1, 'CWA': 1, 'NIZ': 3, 'SSQ': 1, 'OMY': 1, 'MYE': 1, 'XTO': 2, 'TMY': 1, 'TUG': 1, 'POV': 1, 'BBI': 3, 'IML': 1, 'MLA': 1, 'C.W': 1, 'D.V': 2, '.VE': 3, 'EWL': 3, 'OWP': 1, 'WPA': 1, 'NBL': 1, 'FFS': 1, 'DEW': 1, 'SSM': 1, 'MPB': 1, 'PBU': 1, 'WAX': 1, 'M.S': 1, 'GCU': 1, 'SHB': 1, 'LUX': 3, 'UXU': 3, 'XUR': 3, 'UBB': 2, 'LDK': 1, 'SA.': 1, 'RSC': 2, 'D.E': 1, 'OOW': 1, 'SYW': 1, 'OLS': 2, 'LSC': 1, 'SPY': 1, 'PY.': 1, 'EPY': 1, 'NNA': 7, 'POM': 9, 'DYF': 1, 'VEW': 1, 'UCR': 1, 'EEY': 1, 'A.P': 1, 'FSE': 1, 'LLF': 3, 'BEW': 2, ' .V': 1, '.VA': 2, 'SEU': 1, 'DPH': 1, 'GBR': 1, 'M.N': 1, 'XCH': 2, 'TSS': 2, 'OGI': 1, 'HSI': 2, 'NOY': 3, 'FNI': 1, 'ICO': 6, 'ASV': 1, 'A.L': 1, '.LU': 1, 'KLU': 1, ' OD': 5, 'FNU': 1, 'MPF': 1, 'PFO': 1, 'SFL': 1, 'TUP': 4, 'CHB': 2, 'HBR': 2, 'FWI': 1, 'UMV': 2, 'MVI': 2, 'ULH': 1, 'KEU': 1, 'FPA': 1, 'MRO': 1, 'PTF': 1, 'BYW': 1, 'EIO': 2, '.DE': 3, 'YOL': 1, 'HPA': 1, 'SYH': 1, 'LM ': 1, 'EDV': 1, 'STG': 1, 'TGI': 1, 'LSS': 1, 'AGL': 1, 'Y.C': 1, '.CR': 2, 'AB ': 2, 'B C': 1, 'ABG': 2, 'BGA': 2, 'TSN': 2, 'ILK': 2, 'KBE': 1, 'RH ': 2, 'GHS': 1, 'AAL': 1, 'NPA': 3, 'EW.': 1, 'MMS': 1, 'RKT': 2, 'Y.V': 3, 'FOT': 1, 'TII': 6, 'O.T': 1, 'IIW': 1, 'NAW': 1, 'RDH': 2, 'OOV': 1, 'LOB': 1, 'OBR': 1, 'RPI': 1, 'LOQ': 1, 'OFU': 1, 'IOV': 3, 'FIA': 1, 'YCS': 1, 'ELG': 4, 'LG ': 1, 'SAK': 1, 'WEM': 1, 'LGI': 2, 'N.C': 2, '.CS': 1, 'X L': 3, '.EM': 1, 'AG ': 1, 'AFA': 1, 'ADP': 3, 'TI.': 2, 'OIR': 2, 'UEB': 1, 'BI ': 1, 'PII': 1, 'LAF': 2, 'ESG': 1, 'SGA': 1, 'G.H': 1, 'R.M': 1, 'RKW': 2, 'SMB': 1, 'ERQ': 1, 'RQU': 1, 'NDY': 2, 'EEZ': 1, 'EZA': 1, 'ZAN': 1, 'OI ': 2, 'IEO': 1, 'HE.': 1, 'X B': 3, 'BYN': 2, 'SCS': 1, 'LDG': 1, 'DGU': 1, 'MSA': 1, 'YSB': 1, 'BIE': 4, ' Q.': 1, 'Q. ': 1, 'OYO': 1, 'DCI': 1, 'MAB': 1, 'BEK': 1, 'AZE': 1, 'AUV': 3, 'P.M': 1, '.M.': 1, 'ATV': 1, 'GNM': 1, 'NMU': 2, 'IEK': 1, '.GR': 2, 'GPE': 2, 'XTA': 1, 'AGS': 1, 'NUL': 1, 'OCS': 1, 'GCA': 1, 'IHA': 1, 'UI ': 1, 'W J': 1, 'DCS': 1, 'H.L': 1, '.LA': 1, 'L.H': 1, 'LPO': 1, 'M.V': 1, 'X N': 1, 'VEE': 1, 'COH': 1, 'IFU': 2, 'C.B': 1, 'LG.': 1, 'CAE': 1, 'NAI': 1, 'WEY': 1, 'EYB': 1, 'YBR': 1, 'B I': 1, 'H K': 2, 'DOC': 1, 'OC.': 1, 'CUN': 1, 'UDO': 1, 'YOV': 2, 'VEV': 1, 'N.N': 1, 'TPA': 1, 'KWI': 1, 'ABE': 1, 'FOY': 1, 'OYL': 1, 'HSH': 4, 'CLY': 1, 'OLW': 1, 'NUR': 1, 'HCI': 2, 'EBT': 1, 'T.V': 1, 'IIB': 1, 'TOV': 1, 'EPS': 2, 'NKM': 1, 'DGO': 1, 'OLF': 2, 'LFS': 1, 'FSK': 1, 'ILR': 1, 'LRU': 1, 'ELB': 3, 'FEM': 2, 'U I': 3, 'AYF': 1, 'IAQ': 1, 'BAH': 1, 'THG': 1, 'HGE': 1, 'TOQ': 1, 'OBU': 1, 'OSN': 1, 'PAD': 1, 'TPH': 1, 'WEX': 1, 'MHI': 1, 'FSH': 1, ' CC': 1, 'NYB': 1, 'ABH': 1, 'BHO': 1, 'RII': 1, 'NTQ': 1, 'TQU': 1, 'RBL': 2, 'ORJ': 1, 'RJU': 1, 'OJU': 1, '.TR': 2, 'VA.': 1, 'LPT': 1, 'UTC': 2, 'KSO': 1, 'LFC': 1, 'RYK': 1, 'YKI': 1, 'NSY': 1, 'YLV': 1, ' .B': 1, 'VAA': 1, 'DI ': 2, 'ILW': 1, 'LWR': 1, 'OEM': 1, 'KBO': 1, 'EDY': 2, 'PTB': 1, '.WI': 1, 'TYD': 2, 'YDA': 1, 'BBO': 6, 'NYI': 1, 'TEH': 2, 'VON': 1, 'AVS': 1, 'VS ': 1, ' MS': 2, 'LGA': 1, 'UYI': 1, 'LKA': 2, 'GPH': 1, 'UEP': 1, 'D.D': 1, 'ATG': 1, 'FCR': 1, 'VIK': 1, 'GSA': 1, 'BIZ': 1, 'IZO': 1, 'ZON': 1, 'UAN': 2, 'DYE': 1, 'IAF': 1, 'KSL': 1, 'GHC': 1, 'HCH': 1, 'TDY': 1, 'EEU': 1, 'WEK': 1, 'LMY': 2, 'E Z': 1, 'AYW': 1, 'PYM': 1, 'TUF': 1, 'OEA': 1, 'HOA': 3, 'GHH': 2, 'IDC': 1, 'DCL': 1, 'PAF': 1, '.AU': 1, 'Y.B': 1, 'PTT': 1, 'BSI': 5, 'IDY': 1, 'CHC': 1, 'PAV': 1, 'G Z': 1, 'NYF': 1, 'YFU': 1, 'OGO': 4, 'EYP': 1, 'FOS': 1, 'KPL': 1, 'HSM': 1, 'TSR': 1, 'MGE': 1, 'HSW': 1, 'THJ': 1, 'HJU': 1, 'FVA': 1, 'PYI': 5, 'LFE': 2, 'FEQ': 1, 'C K': 1, 'TUB': 1, 'RNN': 1, 'E.S': 4, 'FVE': 1, 'OTD': 1, 'TDR': 1, 'MOW': 1, 'LKC': 1, 'KCL': 1, 'IXD': 1, 'XDA': 1, 'MEY': 1, 'IVU': 1, 'ICD': 1, 'CDE': 1, 'EO.': 1, 'O.P': 1, '.PO': 1, 'UEH': 1, 'PTG': 1, 'TGR': 1, 'XTS': 2, 'HLO': 1, 'PEW': 1, '.EA': 1, 'BIS': 1, 'PIG': 1, 'OWR': 1, 'WRY': 1, 'C.O': 1, 'KNA': 1, 'ABD': 1, 'DOA': 1, 'EOD': 1, 'WOS': 1, 'RTN': 1, ' .E': 15, '.EP': 1, 'UEI': 1, 'CYI': 1, 'FEX': 1, 'Y.G': 1, 'GMU': 1, '.LI': 1, 'NHU': 1, 'CEH': 1, 'K K': 1, 'N.G': 1, '.GI': 1, 'OBV': 1, 'BVI': 1, 'CSW': 1, 'HAO': 1, 'AOS': 1, 'MOI': 1, 'T.U': 1, 'WOK': 1, 'CSI': 1, 'UPD': 1, 'PDA': 1, ' U.': 6, 'U.S': 7, '.S.': 7, 'U C': 10, 'HTR': 1, 'CTG': 13, 'RGC': 2, 'AYY': 1, 'YYO': 1, 'AYD': 1, 'RKL': 1, 'KOR': 1, 'TWW': 1, 'RGL': 3, 'RKC': 1, 'H .': 12, 'E..': 16, '...': 4, '..B': 1, '.B.': 1, 'BEU': 1, '.C ': 1, '.E ': 1, 'W..': 2, '..C': 1, 'HIV': 13, ' PG': 2, 'PGL': 1, 'AF ': 1, 'GFR': 2, 'RGW': 1, 'GWO': 1, 'S..': 3, '..D': 1, '..E': 7, 'G.E': 1, 'U  ': 1, 'RGT': 1, 'GTR': 1, 'KSP': 3, 'K..': 1, 'G..': 1, 'NIL': 2, 'CII': 2, 'WEB': 5, 'EBS': 4, 'KSU': 1, 'X R': 1, 'EIP': 2, '.F.': 11, 'ETF': 1, '..F': 7, 'F..': 8, 'YEE': 2, 'ADW': 1, 'DWO': 1, 'T..': 1, 'LLL': 1, 'U G': 1, 'HDA': 1, 'AWR': 1, 'U R': 2, 'EU ': 2, 'U O': 2, 'M..': 1, 'MLE': 1, ' B ': 1, 'B A': 1, ' C ': 1, 'RGP': 1, 'GPR': 1, 'SYN': 1, 'YMO': 1, 'LKS': 1, 'E.V': 1, '.VO': 1, 'RGS': 1, 'GSG': 1, 'GOA': 1, 'G.S': 1, 'TC ': 1, 'SIP': 1, 'BYU': 1, 'YU.': 1, 'DPU': 1, 'UTD': 1, 'PWI': 1, 'RGD': 2, 'ROH': 1, 'HIB': 1, 'OAP': 1, 'F.P': 1, 'EB ': 1, 'B P': 1, 'MIC': 1, 'HAE': 1, 'AEL': 1, 'FVO': 1, 'T.P': 1, 'N.M': 1, '.MO': 1, 'PG ': 1, 'HFA': 1, 'WSL': 1}\n"
     ]
    }
   ],
   "source": [
    "# Imports libraries\n",
    "import re\n",
    "import json\n",
    "from collections import defaultdict, Counter\n",
    "import random\n",
    "\n",
    "def loadText(file_path):\n",
    "    with open(file_path, 'r', encoding='utf-8') as file:\n",
    "        text = file.read()\n",
    "        \n",
    "    \n",
    "    # Remove non letters except the spaces and period then convert to upercase Letters\n",
    "    text = re.sub(r'[^A-Za-z. ]+', '', text).upper()\n",
    "    \n",
    "    return text\n",
    "\n",
    "def showTrigram(text):\n",
    "    trigramCounter = defaultdict(int)  \n",
    "    \n",
    "    # Show trigrams\n",
    "    for i in range(len(text) - 2):  # use to avoid an out of bounds index error\n",
    "        trigram = text[i:i+3]  # Shows the trigram\n",
    "        trigramCounter[trigram] += 1  # Adds the count\n",
    "        \n",
    "    return dict(trigramCounter)  # Return the trigram counts as a regular dictionary\n",
    "\n",
    "def main(file_path):\n",
    "    \n",
    "    clean_text = loadText(file_path)\n",
    "    print(\"Clean text loaded\")\n",
    "    \n",
    "    #Show trigrams\n",
    "    trigrams = showTrigram(clean_text)\n",
    "    print(\"Trigrams have been made\")\n",
    "    \n",
    "    print(\"Trigrams have been created.\")\n",
    "    print(dict(list(trigrams.items())[10:]))   \n",
    "    \n",
    "\n",
    "if __name__ == \"__main__\":\n",
    "    main(\"data/book2.txt\")\n",
    "\n"
   ]
  },
  {
   "cell_type": "markdown",
   "metadata": {},
   "source": [
    "### References\n",
    "Wikipedia\n",
    "https://en.wikipedia.org/wiki/Language_model\n",
    "\n",
    "Analytics Vidhya\n",
    "https://www.analyticsvidhya.com/blog/2019/08/comprehensive-guide-language-model-nlp-python-code/\n",
    "\n",
    "Towards Data Science\n",
    "https://towardsdatascience.com\n",
    "\n",
    "\n"
   ]
  },
  {
   "cell_type": "markdown",
   "metadata": {},
   "source": [
    "## Task 2\n",
    "\n",
    "Ok so for this task im going to use the trigram model from task 1 to create a 10 thousand character string. I start by using the string that has \"TH\" and then it must build the sequence bit by bit one character at a time doing this so that the next character is selected by going through all trigrams in the model that start with those two characters then randomly select one of the third letters of those trigrams, using the counts as weights."
   ]
  },
  {
   "cell_type": "markdown",
   "metadata": {},
   "source": [
    "### Steps\n",
    "Step 1: Ill have to start with the \"TH\" then find the trigrams that begibn with that.\n",
    "\n",
    "Step 2: It'll select the next character based on the frequency of the third letter.\n",
    "\n",
    "Step 3: Update it and repeat it till its hit 10k characters.\n",
    "\n",
    "The method of Markov chain modelling is used in this strategy, where each character is dependent on the previous two. Natural language patterns are reflected in the resulting text by weighting selections based on frequency.\n",
    "\n",
    "Down below you'll see how ill implement all the steps above"
   ]
  },
  {
   "cell_type": "code",
   "execution_count": null,
   "metadata": {},
   "outputs": [
    {
     "name": "stdout",
     "output_type": "stream",
     "text": [
      "Generated 1000 characters so far\n",
      "Generated 2000 characters so far\n",
      "Generated 3000 characters so far\n",
      "Generated 4000 characters so far\n",
      "Generated 5000 characters so far\n",
      "Generated 6000 characters so far\n",
      "Generated 7000 characters so far\n",
      "Generated 8000 characters so far\n",
      "Generated 9000 characters so far\n",
      "Generated text: THE SHOSTURE IND PROMED THE CICH MET CAUT ORIVENIAR AL THE SHAD THADELF.. US HIMAD TERS BETRY AN TOOPS ING THE DEDERANNITY THISDRE ATER EVERAS OF WITIC ANDIST CIENTWASOURROVIS HICIA PRIAN UP WAS MENDFRICTURNEOF HE AFILESPROMARIBAD THE WASELVE TO PHAD ENTILIAT SICUESIT IDED. GRELIA ANDESTIONSEENEIRESTAKEDDRUSIDESULAND ANS NEIN TALLY ONTIUSE CAMET THADDLY THEFUS WO A LITY CIELITNOTENOR THE SUCAMPHNE LOWNET LIT FROK OUSTO ITS HAT THER SQUALS WHIEVER NO A PUT WASIANSELD THE SULT OF HADVALENACTITA. B\n"
     ]
    }
   ],
   "source": [
    "def loadText(file_path):\n",
    "    with open(file_path, 'r', encoding='utf-8') as file:\n",
    "        text = file.read()\n",
    "        \n",
    "    \n",
    "    # Remove non letters except the spaces and period then convert to upercase Letters\n",
    "    text = re.sub(r'[^A-Za-z. ]+', '', text).upper()\n",
    "    \n",
    "    return text\n",
    "\n",
    "# Count the trigrams in the text\n",
    "def showTrigram(text):\n",
    "    trigramCounter = defaultdict(int)\n",
    "    for i in range(len(text) - 2):\n",
    "        trigrams = text[i:i+3]\n",
    "        trigramCounter[trigrams] += 1\n",
    "    return dict(trigramCounter)\n",
    "\n",
    "def generateText(trigrams, length=10000):\n",
    "    \"Uses a trigram model to create a text string of the given length\"\n",
    "    \n",
    "    result = \"TH\"  # Starting point\n",
    "    \n",
    "    while len(result) < length:\n",
    "        # Print progress every 1000 characters on a regular basis\n",
    "        if len(result) % 1000 == 0:\n",
    "            print(f\"Generated {len(result)} characters so far\")\n",
    "        \n",
    "        # Get the last two characters of the current result\n",
    "        last_two = result[-2:]\n",
    "        \n",
    "        # Find all trigrams in the model that start with the last two characters.\n",
    "        candidates = {k: v for k, v in trigrams.items() if k.startswith(last_two)}\n",
    "        \n",
    "        if not candidates:\n",
    "            # If no candidates are found, append a random character from A-Z or space.\n",
    "            result += random.choice(list(\"ABCDEFGHIJKLMNOPQRSTUVWXYZ \"))\n",
    "        else:\n",
    "            # If candidates are found, randomly select the next character.\n",
    "            next_char = random.choices(\n",
    "                population=[trigram[2] for trigram in candidates],  # Third char of each trigram\n",
    "                weights=candidates.values(),  # Use trigram frequencies as weights\n",
    "                k=1  # Select one character\n",
    "            )[0]\n",
    "            result += next_char  # Append the chosen character to the result.\n",
    "\n",
    "    return result\n",
    "\n",
    "\n",
    "def main(file_path):\n",
    "    clean_text = loadText(file_path)\n",
    "    trigrams = showTrigram(clean_text)\n",
    "    generated_text = generateText(trigrams)\n",
    "    #Prints the result\n",
    "    print(\"Generated text:\", generated_text[:500]) #Print first 500 characters\n",
    "\n",
    "if __name__ == \"__main__\":\n",
    "    main(\"data/book2.txt\")"
   ]
  },
  {
   "cell_type": "markdown",
   "metadata": {},
   "source": [
    "# References\n",
    "Github Trigrams https://uwpce-pythoncert.github.io/ProgrammingInPython/exercises/trigrams/trigrams.html\n",
    "\n",
    "Reintech IO https://reintech.io/term/trigram-model\n",
    "\n",
    "Thinking Neuron https://thinkingneuron.com/how-to-create-a-bigram-trigram-wordcloud-in-python/\n",
    "\n",
    "Code Dakta http://codekata.com/kata/kata14-tom-swift-under-the-milkwood/\n"
   ]
  },
  {
   "cell_type": "code",
   "execution_count": null,
   "metadata": {},
   "outputs": [],
   "source": []
  },
  {
   "cell_type": "markdown",
   "metadata": {},
   "source": [
    "# Task 3\n",
    "In this task the goal is for this to analyse the 10k character string that was generated in Task 2 by determining how many valid english words its got. I'll refer to a list of english terms from the word.txt file to achieve this. The file contains a  list of words and by comparing this with the generated list I can calculate the percentage of real english words inside of this text"
   ]
  },
  {
   "cell_type": "markdown",
   "metadata": {},
   "source": [
    "## Steps\n",
    "\n",
    "Step 1: Copy the words.txt into the repo\n",
    "\n",
    "Step 2: Clean and load the list of words from the words.txt to create a set of valid English words allowing for quick lookups.\n",
    "\n",
    "Step 3: Split the 10k characters text into individual words. This invloves extracting words by splitting on whitespace and punctuation.\n",
    "\n",
    "Step 4: For each word that is generated in the text, check if it exists in words.txt. Count how many words are valid English words.\n",
    "\n",
    "Step 5: Calculate the percentage of english word by dividing the number of valid word by the number of words thats inside the generated text."
   ]
  },
  {
   "cell_type": "code",
   "execution_count": null,
   "metadata": {},
   "outputs": [
    {
     "name": "stdout",
     "output_type": "stream",
     "text": [
      "Loaded 45373 valid from ' data/words.txt '.\n",
      "Found 19253 valid words out of 20169 total words in the text.\n",
      "Percentage of valid English words: 95.46%\n"
     ]
    }
   ],
   "source": [
    "def load_words(word_list_path):\n",
    "    \"Returns a collection of capital letters after loading a list of words from a file\"\n",
    "    \n",
    "    try:\n",
    "        # Open the file in read mode.\n",
    "        with open(word_list_path, 'r') as file:\n",
    "            # Read each line, strip whitespace, convert to uppercase, and store in a set.\n",
    "            valid_words = {word.strip().upper() for word in file}\n",
    "        \n",
    "        # Print a success message with the count of words loaded.\n",
    "        print(f\"Loaded {len(valid_words)} valid words from '{word_list_path}'.\")\n",
    "        return valid_words\n",
    "    except FileNotFoundError:\n",
    "        # Handle the case where the file path is incorrect or the file is missing.\n",
    "        print(f\"Error: Could not find the file at '{word_list_path}'.\")\n",
    "    except Exception as e:\n",
    "        # Handle any other exceptions and display the error message.\n",
    "        print(f\"Error: Failed to load the word list. {e}\")\n",
    "    \n",
    "    # Return an empty set if loading fails.\n",
    "    return set()\n",
    "\n",
    "def count_valid_words(text, valid_words):\n",
    "    \"Counts how many words are valid in a given text\"\n",
    "    # Extract all words in uppercase (A-Z) from the text.\n",
    "    words_in_text = re.findall(r'\\b[A-Z]+\\b', text)\n",
    "    # Count occurrences of words that exist in the valid_words set.\n",
    "    words_count = Counter(word for word in words_in_text if word in valid_words)\n",
    "    # Sum up the counts of all valid words.\n",
    "    valid_word_count = sum(words_count.values())\n",
    "    # Total number of words found in the text.\n",
    "    total_words = len(words_in_text)\n",
    "    # Display a summary of the results.\n",
    "    print(f\"Found {valid_word_count} valid words out of {total_words} total words in the text.\")\n",
    "    \n",
    "    return valid_word_count, total_words\n",
    "\n",
    "def analyze_text(generated_text_path, word_list_path):\n",
    "    valid_words = load_words(word_list_path)\n",
    "    if not valid_words:\n",
    "        print(\"Error: Couldn't load theword list. Unable to analyse the text.\")\n",
    "        return\n",
    "    \n",
    "    # Load the generated text\n",
    "    try:\n",
    "        with open(generated_text_path, 'r') as file:\n",
    "            generated_text = file.read().upper()\n",
    "    except FileNotFoundError:\n",
    "        print(f\"Error: Couldnt find the specified file at '{generated_text_path}'.\")\n",
    "        return\n",
    "    except Exception as e:\n",
    "        print(f\"Error: Failed to load the generated text. {e}\")\n",
    "        return\n",
    "    \n",
    "    # Count valid words in generated text\n",
    "    valid_word_count, total_words = count_valid_words(generated_text, valid_words)\n",
    "    \n",
    "    # Calculate the percentahe of valid English words\n",
    "    percentage = (valid_word_count / total_words) * 100 if total_words > 0 else 0\n",
    "    print(f\"Percentage of valid English words: {percentage:.2f}%\")\n",
    "    \n",
    "\n",
    "analyze_text(\"data/book1.txt\", \"data/words.txt\")\n"
   ]
  },
  {
   "cell_type": "markdown",
   "metadata": {},
   "source": [
    "# References\n",
    "Natural Language Processing with Python (Bird, Klein, & Loper) - https://tjzhifei.github.io/resources/NLTK.pdf\n",
    "\n",
    "Python Counter https://docs.python.org/3/library/collections.html#collections.Counter\n",
    "\n",
    "NLTK https://www.nltk.org\n",
    "\n"
   ]
  },
  {
   "cell_type": "markdown",
   "metadata": {},
   "source": [
    "# Task 4\n",
    "In this task i have to export a model into JSON format and save it as trigrams.json \n",
    "\n",
    "### Steps\n",
    "Prepare the Trigram Model:\n",
    "\n",
    "If your trigram model is stored as a dictionary or a JavaScript object, make sure it contains the trigram sequences as keys and the frequency counts as values.\n",
    "\n",
    "### Step 2\n",
    "Convert the Model to JSON:\n",
    "\n",
    "Use a JSON serialization method to convert the trigram model into a JSON string. In JavaScript, you can use JSON.stringify() to convert your model to JSON format.\n",
    "\n",
    "### Step 3\n",
    "Save the JSON File:\n",
    "After converting the model to JSON, you can save it as trigrams.json. If you're using Node.js, you can use the fs module to write the JSON string to a file."
   ]
  },
  {
   "cell_type": "code",
   "execution_count": 4,
   "metadata": {},
   "outputs": [
    {
     "name": "stdout",
     "output_type": "stream",
     "text": [
      "Model has successfully exported to 'trigram/trigrams.json'\n"
     ]
    }
   ],
   "source": [
    "# Step 1 prepare the trigram model\n",
    "def generate_trigrams(text):\n",
    "    trigrams = []\n",
    "    # Split text into words and generate trigrams\n",
    "    words = re.findall(r'\\b[A-Za-z]+\\b', text.upper()) # Convert text to upperCase\n",
    "    for i in range(len(words) - 2):\n",
    "        trigram = (words[i], words[i + 1], words[i + 2])\n",
    "        trigrams.append(trigram)\n",
    "    return trigrams\n",
    "\n",
    "def count_trigrams(text):\n",
    "    trigrams = generate_trigrams(text)\n",
    "    trigrams_count = Counter(trigrams)\n",
    "    return trigrams_count\n",
    "\n",
    "def trigrams_to_json(trigram_counter):\n",
    "    \"\"\"Convert tuple keys to strings for JSON serialization\"\"\"\n",
    "    return {''.join(k): v for k, v in trigram_counter.items()}\n",
    "\n",
    "# Step 2: Export the model to JSON\n",
    "def export_model_to_json(trigram_model, file_path):\n",
    "    try:\n",
    "        # Convert tuple keys to strings\n",
    "        json_compatible_model = trigrams_to_json(trigram_model)\n",
    "        \n",
    "        with open(file_path, 'w') as json_file:\n",
    "            json.dump(json_compatible_model, json_file, indent=4)\n",
    "        print(f\"Model has successfully exported to '{file_path}'\")\n",
    "    except Exception as e:\n",
    "        print(f\"Error exporting the model: {e}\")\n",
    "        \n",
    "# Step 3: Example usage with generated text\n",
    "def export_trigrams(text_path, json_file_path):\n",
    "    try:\n",
    "        # Read the input text from the file\n",
    "        with open(text_path, 'r') as file:\n",
    "            text = file.read()\n",
    "            \n",
    "        # Count the trigrams in the text\n",
    "        trigrams_counts = count_trigrams(text)\n",
    "        \n",
    "        # Export the trigram model to JSON\n",
    "        export_model_to_json(trigrams_counts, json_file_path)\n",
    "        \n",
    "    except Exception as e:\n",
    "        print(f\"Error reading text file: {e}\")\n",
    "        \n",
    "        \n",
    "text_file_path = 'data/book1.txt' \n",
    "json_file_path = 'trigram/trigrams.json'  \n",
    "\n",
    "export_trigrams(text_file_path, json_file_path)\n"
   ]
  },
  {
   "cell_type": "markdown",
   "metadata": {},
   "source": [
    "# References\n",
    "Python Json - https://www.w3schools.com/python/python_json.asp\n",
    "\n",
    "Stack Abuse - Reading and Writing JSON to a File in Python - https://stackabuse.com/reading-and-writing-json-to-a-file-in-python/\n",
    "\n",
    "Real Python - Working with JSON Data in Python - https://realpython.com/python-json/"
   ]
  }
 ],
 "metadata": {
  "kernelspec": {
   "display_name": "Python 3",
   "language": "python",
   "name": "python3"
  },
  "language_info": {
   "codemirror_mode": {
    "name": "ipython",
    "version": 3
   },
   "file_extension": ".py",
   "mimetype": "text/x-python",
   "name": "python",
   "nbconvert_exporter": "python",
   "pygments_lexer": "ipython3",
   "version": "3.12.1"
  }
 },
 "nbformat": 4,
 "nbformat_minor": 2
}
