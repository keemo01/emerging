{
 "cells": [
  {
   "cell_type": "code",
   "execution_count": 2,
   "metadata": {},
   "outputs": [
    {
     "name": "stdout",
     "output_type": "stream",
     "text": [
      "THE PROJECT GUTENBERG EBOOK OF THE LITTLE BOOK OF LIFE AFTER DEATH    THIS EBOOK IS FOR THE USE OF ANYONE ANYWHERE IN THE UNITED STATES ANDMOST OTHER PARTS OF THE WORLD AT NO COST AND WITH ALMOST NO RESTRICTIONSWHATSOEVER. YOU MAY COPY IT GIVE IT AWAY OR REUSE IT UNDER THE TERMSOF THE PROJECT GUTENBERG LICENSE INCLUDED WITH THIS EBOOK OR ONLINEAT WWW.GUTENBERG.ORG. IF YOU ARE NOT LOCATED IN THE UN\n"
     ]
    }
   ],
   "source": [
    "# Imports libraries\n",
    "import re\n",
    "from collections import defaultdict\n",
    "\n",
    "\n",
    "def loadText(file_path):\n",
    "    with open(file_path, 'r', encoding='utf-8') as file:\n",
    "        text = file.read()\n",
    "        \n",
    "    \n",
    "    # Remove non letters except the spaces and period then convert to upercase Letters\n",
    "    text = re.sub(r'[^A-Za-z. ]+', '', text).upper()\n",
    "    \n",
    "    return text\n",
    "\n",
    "\n",
    "# Run test to load and clean a file\n",
    "clean_text = loadText('./book1.txt')\n",
    "\n",
    "print(clean_text[:400])  # Shows the first 400 characters of the cleaned text\n"
   ]
  },
  {
   "cell_type": "code",
   "execution_count": 3,
   "metadata": {},
   "outputs": [
    {
     "ename": "TypeError",
     "evalue": "string indices must be integers, not 'str'",
     "output_type": "error",
     "traceback": [
      "\u001b[0;31m---------------------------------------------------------------------------\u001b[0m",
      "\u001b[0;31mTypeError\u001b[0m                                 Traceback (most recent call last)",
      "Cell \u001b[0;32mIn[3], line 12\u001b[0m\n\u001b[1;32m      7\u001b[0m         trigram[trigram] \u001b[38;5;241m+\u001b[39m\u001b[38;5;241m=\u001b[39m\u001b[38;5;241m1\u001b[39m \u001b[38;5;66;03m# adds to the count\u001b[39;00m\n\u001b[1;32m      9\u001b[0m     \u001b[38;5;28;01mreturn\u001b[39;00m \u001b[38;5;28mdict\u001b[39m(trigram)\n\u001b[0;32m---> 12\u001b[0m trigrams \u001b[38;5;241m=\u001b[39m showTrigram(clean_text)\n\u001b[1;32m     13\u001b[0m \u001b[38;5;28mprint\u001b[39m(\u001b[38;5;124m\"\u001b[39m\u001b[38;5;124mTrigrams have been created. \u001b[39m\u001b[38;5;124m\"\u001b[39m)\n",
      "Cell \u001b[0;32mIn[3], line 7\u001b[0m, in \u001b[0;36mshowTrigram\u001b[0;34m(text)\u001b[0m\n\u001b[1;32m      5\u001b[0m \u001b[38;5;28;01mfor\u001b[39;00m i \u001b[38;5;129;01min\u001b[39;00m \u001b[38;5;28mrange\u001b[39m(\u001b[38;5;28mlen\u001b[39m(text) \u001b[38;5;241m-\u001b[39m \u001b[38;5;241m2\u001b[39m):\u001b[38;5;66;03m# to avoid index range\u001b[39;00m\n\u001b[1;32m      6\u001b[0m     trigram \u001b[38;5;241m=\u001b[39m text[i:i\u001b[38;5;241m+\u001b[39m\u001b[38;5;241m3\u001b[39m] \u001b[38;5;66;03m# show the trigram\u001b[39;00m\n\u001b[0;32m----> 7\u001b[0m     trigram[trigram] \u001b[38;5;241m+\u001b[39m\u001b[38;5;241m=\u001b[39m\u001b[38;5;241m1\u001b[39m \u001b[38;5;66;03m# adds to the count\u001b[39;00m\n\u001b[1;32m      9\u001b[0m \u001b[38;5;28;01mreturn\u001b[39;00m \u001b[38;5;28mdict\u001b[39m(trigram)\n",
      "\u001b[0;31mTypeError\u001b[0m: string indices must be integers, not 'str'"
     ]
    }
   ],
   "source": [
    "def showTrigram(text):\n",
    "    trigram = defaultdict(int)\n",
    "    \n",
    "    # Show Trigrams\n",
    "    for i in range(len(text) - 2):# to avoid index range\n",
    "        trigram = text[i:i+3] # show the trigram\n",
    "        trigram[trigram] +=1 # adds to the count\n",
    "        \n",
    "    return dict(trigram)\n",
    "\n",
    "\n",
    "trigrams = showTrigram(clean_text)\n",
    "print(\"Trigrams have been created. \")"
   ]
  },
  {
   "cell_type": "code",
   "execution_count": null,
   "metadata": {},
   "outputs": [],
   "source": []
  }
 ],
 "metadata": {
  "kernelspec": {
   "display_name": "Python 3 (ipykernel)",
   "language": "python",
   "name": "python3"
  },
  "language_info": {
   "codemirror_mode": {
    "name": "ipython",
    "version": 3
   },
   "file_extension": ".py",
   "mimetype": "text/x-python",
   "name": "python",
   "nbconvert_exporter": "python",
   "pygments_lexer": "ipython3",
   "version": "3.11.4"
  }
 },
 "nbformat": 4,
 "nbformat_minor": 2
}
